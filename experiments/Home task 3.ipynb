{
 "cells": [
  {
   "cell_type": "code",
   "execution_count": 2,
   "metadata": {},
   "outputs": [],
   "source": [
    "import pandas as pd\n",
    "import matplotlib.pyplot as plt\n",
    "import numpy as np\n",
    "import seaborn as sns\n",
    "import datetime\n",
    "import random\n",
    "from statsmodels.stats.power import tt_ind_solve_power\n",
    "\n",
    "def date_converter(x):\n",
    "    return datetime.datetime.strptime(x,'%Y-%m-%d')"
   ]
  },
  {
   "cell_type": "code",
   "execution_count": null,
   "metadata": {},
   "outputs": [],
   "source": []
  },
  {
   "cell_type": "markdown",
   "metadata": {},
   "source": [
    "### Задание 3\n",
    "**Срок сдачи: 07 апреля 18:00**\n",
    "\n",
    "В этом задание вы будете работать с выручкой - метрикой с достаточно высокой дисперсией и соответсвенно низкой чувствительностью к изменениям.\n",
    "\n",
    "Вам предстоит разработать подход по повышению чувствительности этой метрики.\n",
    "От успеха данной инициативы зависит то, как быстро мы сможем проверять продуктовые гипотезы."
   ]
  },
  {
   "cell_type": "markdown",
   "metadata": {},
   "source": [
    "#### Для планирования эксперимента изучите данные и метрики 2 балла:\n",
    "\n",
    "- Загрузите файл и изучите данные;\n",
    "- Изучите основные статистики метрики: среднее, стандартное отклонение;\n",
    "- Изучите то, как эти статистики изменяются внутри срезов: user_segment, region, category\n",
    "\n",
    "#### Предскажите минимально детектируемый эффект (MDE) 2 балла:\n",
    "\n",
    "- Для размеров тестовых групп 10,25,50% и длительностей 30, 60, 90 дней предскажите минимально детектируемый эффект;\n",
    "\n",
    "\n",
    "#### CUPED 6 баллов\n",
    "Разработайте подход по снижению дисперсии на основе методики CUPED:\n",
    "\n",
    "- Рассчитайте CUPED метрику на основе данных за периода в 30 дней перед предполагаемым периодом сбора основной выборки и опишите как изменился MDE для выборок 50/50%, собранных за 30 дней (2 бала). \n",
    "- Проверьте насколько данный подход подвержен сезональности. Как меняется MDE, если применять данный подход в разные периоды (2 бала). \n",
    "- Оптимизируйте подход варьируя количество дней до теста, которые вы будете для расчёта CUPED метрики. Какое максимальное снижение MDE вы смогли достичь (2 бала).\n",
    "\n",
    "\n",
    "\n",
    "#### * Стратификация 4 балла (задание для получения дополнительных баллов)\n",
    "Разработайте подход по снижению дисперсии на основе методики стратификации выборок:\n",
    "\n",
    "- Стратифицируйте выборки внутри срезов user_segment, region, category\n",
    "- Рассчитайте стратифицированные среднее,стандартное отклонение для этих выборок и MDE для теста 50/50% длительностью 30 дней.\n",
    "- В каких срезах достигается наибольшее снижение MDE?\n",
    "\n"
   ]
  },
  {
   "cell_type": "markdown",
   "metadata": {},
   "source": [
    "#### Описание данныx\n",
    "\n",
    "event_date - дата \n",
    "\n",
    "user_id - идентификатор пользователя\n",
    "\n",
    "user_segment - сегмент пользователей\n",
    "\n",
    "region - регион\n",
    "\n",
    "category - категория авито\n",
    "\n",
    "revenue_amount - сумма покупок\n"
   ]
  },
  {
   "cell_type": "code",
   "execution_count": 3,
   "metadata": {},
   "outputs": [],
   "source": [
    "df = pd.read_csv('user_amount_var_reduction.csv')\n",
    "df['event_date']=df.event_date.apply(date_converter)"
   ]
  },
  {
   "cell_type": "code",
   "execution_count": 4,
   "metadata": {},
   "outputs": [
    {
     "data": {
      "text/html": [
       "<div>\n",
       "<style scoped>\n",
       "    .dataframe tbody tr th:only-of-type {\n",
       "        vertical-align: middle;\n",
       "    }\n",
       "\n",
       "    .dataframe tbody tr th {\n",
       "        vertical-align: top;\n",
       "    }\n",
       "\n",
       "    .dataframe thead th {\n",
       "        text-align: right;\n",
       "    }\n",
       "</style>\n",
       "<table border=\"1\" class=\"dataframe\">\n",
       "  <thead>\n",
       "    <tr style=\"text-align: right;\">\n",
       "      <th></th>\n",
       "      <th>event_date</th>\n",
       "      <th>user_id</th>\n",
       "      <th>user_segment</th>\n",
       "      <th>category</th>\n",
       "      <th>region</th>\n",
       "      <th>revenue_amount</th>\n",
       "    </tr>\n",
       "  </thead>\n",
       "  <tbody>\n",
       "    <tr>\n",
       "      <th>0</th>\n",
       "      <td>2019-06-18</td>\n",
       "      <td>4129257975403696</td>\n",
       "      <td>4626944681007198896</td>\n",
       "      <td>7204754148424990691</td>\n",
       "      <td>2201388710798473628</td>\n",
       "      <td>139</td>\n",
       "    </tr>\n",
       "    <tr>\n",
       "      <th>1</th>\n",
       "      <td>2019-06-18</td>\n",
       "      <td>7225254357470025</td>\n",
       "      <td>4626944681007198896</td>\n",
       "      <td>57514010642945023</td>\n",
       "      <td>3048517866726460689</td>\n",
       "      <td>193</td>\n",
       "    </tr>\n",
       "    <tr>\n",
       "      <th>2</th>\n",
       "      <td>2019-06-18</td>\n",
       "      <td>8912846500600569</td>\n",
       "      <td>4626944681007198896</td>\n",
       "      <td>5983323600580891431</td>\n",
       "      <td>3048517866726460689</td>\n",
       "      <td>160</td>\n",
       "    </tr>\n",
       "    <tr>\n",
       "      <th>3</th>\n",
       "      <td>2019-06-18</td>\n",
       "      <td>20910801279823046</td>\n",
       "      <td>4626944681007198896</td>\n",
       "      <td>6847326422676498281</td>\n",
       "      <td>7762196236856042106</td>\n",
       "      <td>209</td>\n",
       "    </tr>\n",
       "    <tr>\n",
       "      <th>4</th>\n",
       "      <td>2019-06-18</td>\n",
       "      <td>34873300821657220</td>\n",
       "      <td>2376074197230840906</td>\n",
       "      <td>3187769798308634693</td>\n",
       "      <td>3855810523611026650</td>\n",
       "      <td>160</td>\n",
       "    </tr>\n",
       "    <tr>\n",
       "      <th>...</th>\n",
       "      <td>...</td>\n",
       "      <td>...</td>\n",
       "      <td>...</td>\n",
       "      <td>...</td>\n",
       "      <td>...</td>\n",
       "      <td>...</td>\n",
       "    </tr>\n",
       "    <tr>\n",
       "      <th>8625837</th>\n",
       "      <td>2019-12-08</td>\n",
       "      <td>9170823997728769058</td>\n",
       "      <td>2376074197230840906</td>\n",
       "      <td>4658595883120885993</td>\n",
       "      <td>3855810523611026650</td>\n",
       "      <td>133</td>\n",
       "    </tr>\n",
       "    <tr>\n",
       "      <th>8625838</th>\n",
       "      <td>2019-12-08</td>\n",
       "      <td>9178869387857307556</td>\n",
       "      <td>4626944681007198896</td>\n",
       "      <td>1472231361867825698</td>\n",
       "      <td>3048517866726460689</td>\n",
       "      <td>63</td>\n",
       "    </tr>\n",
       "    <tr>\n",
       "      <th>8625839</th>\n",
       "      <td>2019-12-08</td>\n",
       "      <td>9186690404771258365</td>\n",
       "      <td>2376074197230840906</td>\n",
       "      <td>4546178272531746227</td>\n",
       "      <td>8867014108346120905</td>\n",
       "      <td>168</td>\n",
       "    </tr>\n",
       "    <tr>\n",
       "      <th>8625840</th>\n",
       "      <td>2019-12-08</td>\n",
       "      <td>9195678548159495844</td>\n",
       "      <td>2376074197230840906</td>\n",
       "      <td>5983323600580891431</td>\n",
       "      <td>1187552825302355021</td>\n",
       "      <td>118</td>\n",
       "    </tr>\n",
       "    <tr>\n",
       "      <th>8625841</th>\n",
       "      <td>2019-12-08</td>\n",
       "      <td>9203791365722213789</td>\n",
       "      <td>4626944681007198896</td>\n",
       "      <td>6864443610550051939</td>\n",
       "      <td>3048517866726460689</td>\n",
       "      <td>39</td>\n",
       "    </tr>\n",
       "  </tbody>\n",
       "</table>\n",
       "<p>8625842 rows × 6 columns</p>\n",
       "</div>"
      ],
      "text/plain": [
       "        event_date              user_id         user_segment  \\\n",
       "0       2019-06-18     4129257975403696  4626944681007198896   \n",
       "1       2019-06-18     7225254357470025  4626944681007198896   \n",
       "2       2019-06-18     8912846500600569  4626944681007198896   \n",
       "3       2019-06-18    20910801279823046  4626944681007198896   \n",
       "4       2019-06-18    34873300821657220  2376074197230840906   \n",
       "...            ...                  ...                  ...   \n",
       "8625837 2019-12-08  9170823997728769058  2376074197230840906   \n",
       "8625838 2019-12-08  9178869387857307556  4626944681007198896   \n",
       "8625839 2019-12-08  9186690404771258365  2376074197230840906   \n",
       "8625840 2019-12-08  9195678548159495844  2376074197230840906   \n",
       "8625841 2019-12-08  9203791365722213789  4626944681007198896   \n",
       "\n",
       "                    category               region  revenue_amount  \n",
       "0        7204754148424990691  2201388710798473628             139  \n",
       "1          57514010642945023  3048517866726460689             193  \n",
       "2        5983323600580891431  3048517866726460689             160  \n",
       "3        6847326422676498281  7762196236856042106             209  \n",
       "4        3187769798308634693  3855810523611026650             160  \n",
       "...                      ...                  ...             ...  \n",
       "8625837  4658595883120885993  3855810523611026650             133  \n",
       "8625838  1472231361867825698  3048517866726460689              63  \n",
       "8625839  4546178272531746227  8867014108346120905             168  \n",
       "8625840  5983323600580891431  1187552825302355021             118  \n",
       "8625841  6864443610550051939  3048517866726460689              39  \n",
       "\n",
       "[8625842 rows x 6 columns]"
      ]
     },
     "execution_count": 4,
     "metadata": {},
     "output_type": "execute_result"
    }
   ],
   "source": [
    "df"
   ]
  },
  {
   "cell_type": "code",
   "execution_count": 5,
   "metadata": {},
   "outputs": [
    {
     "data": {
      "text/plain": [
       "count    8.625842e+06\n",
       "mean     4.009047e+02\n",
       "std      9.602217e+02\n",
       "min      1.000000e+00\n",
       "25%      8.800000e+01\n",
       "50%      1.670000e+02\n",
       "75%      4.050000e+02\n",
       "max      2.881230e+05\n",
       "Name: revenue_amount, dtype: float64"
      ]
     },
     "execution_count": 5,
     "metadata": {},
     "output_type": "execute_result"
    }
   ],
   "source": [
    "df.revenue_amount.describe()"
   ]
  },
  {
   "cell_type": "code",
   "execution_count": 6,
   "metadata": {
    "scrolled": true
   },
   "outputs": [
    {
     "data": {
      "text/plain": [
       "<AxesSubplot:>"
      ]
     },
     "execution_count": 6,
     "metadata": {},
     "output_type": "execute_result"
    },
    {
     "data": {
      "image/png": "[encoded data removed]",
      "text/plain": [
       "<Figure size 432x288 with 1 Axes>"
      ]
     },
     "metadata": {
      "needs_background": "light"
     },
     "output_type": "display_data"
    }
   ],
   "source": [
    "df.revenue_amount[df['revenue_amount']<np.quantile(df['revenue_amount'],q=0.99)].hist()"
   ]
  },
  {
   "cell_type": "code",
   "execution_count": 7,
   "metadata": {
    "scrolled": false
   },
   "outputs": [
    {
     "data": {
      "text/html": [
       "<div>\n",
       "<style scoped>\n",
       "    .dataframe tbody tr th:only-of-type {\n",
       "        vertical-align: middle;\n",
       "    }\n",
       "\n",
       "    .dataframe tbody tr th {\n",
       "        vertical-align: top;\n",
       "    }\n",
       "\n",
       "    .dataframe thead th {\n",
       "        text-align: right;\n",
       "    }\n",
       "</style>\n",
       "<table border=\"1\" class=\"dataframe\">\n",
       "  <thead>\n",
       "    <tr style=\"text-align: right;\">\n",
       "      <th></th>\n",
       "      <th>mean</th>\n",
       "      <th>std</th>\n",
       "    </tr>\n",
       "    <tr>\n",
       "      <th>user_segment</th>\n",
       "      <th></th>\n",
       "      <th></th>\n",
       "    </tr>\n",
       "  </thead>\n",
       "  <tbody>\n",
       "    <tr>\n",
       "      <th>853431062533847667</th>\n",
       "      <td>1094.330305</td>\n",
       "      <td>2392.330098</td>\n",
       "    </tr>\n",
       "    <tr>\n",
       "      <th>2376074197230840906</th>\n",
       "      <td>401.615956</td>\n",
       "      <td>571.446013</td>\n",
       "    </tr>\n",
       "    <tr>\n",
       "      <th>4626944681007198896</th>\n",
       "      <td>207.760172</td>\n",
       "      <td>285.545686</td>\n",
       "    </tr>\n",
       "  </tbody>\n",
       "</table>\n",
       "</div>"
      ],
      "text/plain": [
       "                            mean          std\n",
       "user_segment                                 \n",
       "853431062533847667   1094.330305  2392.330098\n",
       "2376074197230840906   401.615956   571.446013\n",
       "4626944681007198896   207.760172   285.545686"
      ]
     },
     "execution_count": 7,
     "metadata": {},
     "output_type": "execute_result"
    }
   ],
   "source": [
    "df.groupby('user_segment').agg({'revenue_amount': ['mean', 'std']})['revenue_amount'].sort_values('std', ascending=False)"
   ]
  },
  {
   "cell_type": "code",
   "execution_count": 8,
   "metadata": {},
   "outputs": [
    {
     "data": {
      "text/html": [
       "<div>\n",
       "<style scoped>\n",
       "    .dataframe tbody tr th:only-of-type {\n",
       "        vertical-align: middle;\n",
       "    }\n",
       "\n",
       "    .dataframe tbody tr th {\n",
       "        vertical-align: top;\n",
       "    }\n",
       "\n",
       "    .dataframe thead th {\n",
       "        text-align: right;\n",
       "    }\n",
       "</style>\n",
       "<table border=\"1\" class=\"dataframe\">\n",
       "  <thead>\n",
       "    <tr style=\"text-align: right;\">\n",
       "      <th></th>\n",
       "      <th>mean</th>\n",
       "      <th>std</th>\n",
       "    </tr>\n",
       "    <tr>\n",
       "      <th>region</th>\n",
       "      <th></th>\n",
       "      <th></th>\n",
       "    </tr>\n",
       "  </thead>\n",
       "  <tbody>\n",
       "    <tr>\n",
       "      <th>1481836092404435976</th>\n",
       "      <td>709.130762</td>\n",
       "      <td>1819.635279</td>\n",
       "    </tr>\n",
       "    <tr>\n",
       "      <th>4848067518890897757</th>\n",
       "      <td>644.019141</td>\n",
       "      <td>1407.455008</td>\n",
       "    </tr>\n",
       "    <tr>\n",
       "      <th>5780543780372929118</th>\n",
       "      <td>536.875280</td>\n",
       "      <td>1324.789564</td>\n",
       "    </tr>\n",
       "    <tr>\n",
       "      <th>2751451541457411742</th>\n",
       "      <td>391.602676</td>\n",
       "      <td>1241.044595</td>\n",
       "    </tr>\n",
       "    <tr>\n",
       "      <th>1611023233668261710</th>\n",
       "      <td>529.945146</td>\n",
       "      <td>1069.926166</td>\n",
       "    </tr>\n",
       "    <tr>\n",
       "      <th>...</th>\n",
       "      <td>...</td>\n",
       "      <td>...</td>\n",
       "    </tr>\n",
       "    <tr>\n",
       "      <th>6371282152022805074</th>\n",
       "      <td>187.891898</td>\n",
       "      <td>256.364711</td>\n",
       "    </tr>\n",
       "    <tr>\n",
       "      <th>928013360687874809</th>\n",
       "      <td>194.400922</td>\n",
       "      <td>239.776537</td>\n",
       "    </tr>\n",
       "    <tr>\n",
       "      <th>9173615405044165275</th>\n",
       "      <td>189.498536</td>\n",
       "      <td>230.607352</td>\n",
       "    </tr>\n",
       "    <tr>\n",
       "      <th>8443241763018219192</th>\n",
       "      <td>192.534498</td>\n",
       "      <td>227.287387</td>\n",
       "    </tr>\n",
       "    <tr>\n",
       "      <th>8666105090637809898</th>\n",
       "      <td>192.322772</td>\n",
       "      <td>222.724661</td>\n",
       "    </tr>\n",
       "  </tbody>\n",
       "</table>\n",
       "<p>84 rows × 2 columns</p>\n",
       "</div>"
      ],
      "text/plain": [
       "                           mean          std\n",
       "region                                      \n",
       "1481836092404435976  709.130762  1819.635279\n",
       "4848067518890897757  644.019141  1407.455008\n",
       "5780543780372929118  536.875280  1324.789564\n",
       "2751451541457411742  391.602676  1241.044595\n",
       "1611023233668261710  529.945146  1069.926166\n",
       "...                         ...          ...\n",
       "6371282152022805074  187.891898   256.364711\n",
       "928013360687874809   194.400922   239.776537\n",
       "9173615405044165275  189.498536   230.607352\n",
       "8443241763018219192  192.534498   227.287387\n",
       "8666105090637809898  192.322772   222.724661\n",
       "\n",
       "[84 rows x 2 columns]"
      ]
     },
     "execution_count": 8,
     "metadata": {},
     "output_type": "execute_result"
    }
   ],
   "source": [
    "df.groupby('region').agg({'revenue_amount': ['mean', 'std']})['revenue_amount'].sort_values('std', ascending=False)"
   ]
  },
  {
   "cell_type": "code",
   "execution_count": 9,
   "metadata": {},
   "outputs": [
    {
     "data": {
      "text/html": [
       "<div>\n",
       "<style scoped>\n",
       "    .dataframe tbody tr th:only-of-type {\n",
       "        vertical-align: middle;\n",
       "    }\n",
       "\n",
       "    .dataframe tbody tr th {\n",
       "        vertical-align: top;\n",
       "    }\n",
       "\n",
       "    .dataframe thead th {\n",
       "        text-align: right;\n",
       "    }\n",
       "</style>\n",
       "<table border=\"1\" class=\"dataframe\">\n",
       "  <thead>\n",
       "    <tr style=\"text-align: right;\">\n",
       "      <th></th>\n",
       "      <th>mean</th>\n",
       "      <th>std</th>\n",
       "    </tr>\n",
       "    <tr>\n",
       "      <th>category</th>\n",
       "      <th></th>\n",
       "      <th></th>\n",
       "    </tr>\n",
       "  </thead>\n",
       "  <tbody>\n",
       "    <tr>\n",
       "      <th>7164285449278522823</th>\n",
       "      <td>1955.979431</td>\n",
       "      <td>3164.815179</td>\n",
       "    </tr>\n",
       "    <tr>\n",
       "      <th>2343719193625129042</th>\n",
       "      <td>943.989905</td>\n",
       "      <td>2471.247604</td>\n",
       "    </tr>\n",
       "    <tr>\n",
       "      <th>6549025562984299367</th>\n",
       "      <td>410.800302</td>\n",
       "      <td>1899.114650</td>\n",
       "    </tr>\n",
       "    <tr>\n",
       "      <th>2923341857645916506</th>\n",
       "      <td>806.675364</td>\n",
       "      <td>1613.975843</td>\n",
       "    </tr>\n",
       "    <tr>\n",
       "      <th>7948270325129383019</th>\n",
       "      <td>792.677807</td>\n",
       "      <td>1352.172272</td>\n",
       "    </tr>\n",
       "    <tr>\n",
       "      <th>1793067034829450750</th>\n",
       "      <td>497.431001</td>\n",
       "      <td>1073.795206</td>\n",
       "    </tr>\n",
       "    <tr>\n",
       "      <th>4409084324312788296</th>\n",
       "      <td>379.733922</td>\n",
       "      <td>889.850240</td>\n",
       "    </tr>\n",
       "    <tr>\n",
       "      <th>3358911609809004109</th>\n",
       "      <td>403.792946</td>\n",
       "      <td>791.225418</td>\n",
       "    </tr>\n",
       "    <tr>\n",
       "      <th>3187769798308634693</th>\n",
       "      <td>467.654020</td>\n",
       "      <td>790.312625</td>\n",
       "    </tr>\n",
       "    <tr>\n",
       "      <th>6742557862815872936</th>\n",
       "      <td>503.182713</td>\n",
       "      <td>778.842570</td>\n",
       "    </tr>\n",
       "    <tr>\n",
       "      <th>174490086998335078</th>\n",
       "      <td>325.149759</td>\n",
       "      <td>764.813512</td>\n",
       "    </tr>\n",
       "    <tr>\n",
       "      <th>264558924403680107</th>\n",
       "      <td>509.373364</td>\n",
       "      <td>747.222091</td>\n",
       "    </tr>\n",
       "    <tr>\n",
       "      <th>4546178272531746227</th>\n",
       "      <td>510.431362</td>\n",
       "      <td>717.762308</td>\n",
       "    </tr>\n",
       "    <tr>\n",
       "      <th>5858189596811644833</th>\n",
       "      <td>527.746677</td>\n",
       "      <td>699.154653</td>\n",
       "    </tr>\n",
       "    <tr>\n",
       "      <th>91460430793700892</th>\n",
       "      <td>441.861699</td>\n",
       "      <td>651.938097</td>\n",
       "    </tr>\n",
       "    <tr>\n",
       "      <th>5736208844128861898</th>\n",
       "      <td>321.823084</td>\n",
       "      <td>625.686617</td>\n",
       "    </tr>\n",
       "    <tr>\n",
       "      <th>57514010642945023</th>\n",
       "      <td>347.826167</td>\n",
       "      <td>605.864274</td>\n",
       "    </tr>\n",
       "    <tr>\n",
       "      <th>1472231361867825698</th>\n",
       "      <td>258.353200</td>\n",
       "      <td>594.984151</td>\n",
       "    </tr>\n",
       "    <tr>\n",
       "      <th>5983323600580891431</th>\n",
       "      <td>433.565037</td>\n",
       "      <td>535.078480</td>\n",
       "    </tr>\n",
       "    <tr>\n",
       "      <th>5284347926600386297</th>\n",
       "      <td>455.255782</td>\n",
       "      <td>534.420842</td>\n",
       "    </tr>\n",
       "    <tr>\n",
       "      <th>7204754148424990691</th>\n",
       "      <td>352.174948</td>\n",
       "      <td>511.821260</td>\n",
       "    </tr>\n",
       "    <tr>\n",
       "      <th>6864443610550051939</th>\n",
       "      <td>233.014721</td>\n",
       "      <td>471.848055</td>\n",
       "    </tr>\n",
       "    <tr>\n",
       "      <th>1560592244484430230</th>\n",
       "      <td>313.285665</td>\n",
       "      <td>464.354426</td>\n",
       "    </tr>\n",
       "    <tr>\n",
       "      <th>320230973495659885</th>\n",
       "      <td>286.013254</td>\n",
       "      <td>414.997017</td>\n",
       "    </tr>\n",
       "    <tr>\n",
       "      <th>282115902545472456</th>\n",
       "      <td>260.778575</td>\n",
       "      <td>354.734991</td>\n",
       "    </tr>\n",
       "    <tr>\n",
       "      <th>2965866302161963961</th>\n",
       "      <td>196.501761</td>\n",
       "      <td>350.682200</td>\n",
       "    </tr>\n",
       "    <tr>\n",
       "      <th>6847326422676498281</th>\n",
       "      <td>167.567493</td>\n",
       "      <td>311.475321</td>\n",
       "    </tr>\n",
       "    <tr>\n",
       "      <th>4394253463123676325</th>\n",
       "      <td>136.595029</td>\n",
       "      <td>300.843418</td>\n",
       "    </tr>\n",
       "    <tr>\n",
       "      <th>7247164925237372155</th>\n",
       "      <td>155.169288</td>\n",
       "      <td>285.421869</td>\n",
       "    </tr>\n",
       "    <tr>\n",
       "      <th>3429514168013826643</th>\n",
       "      <td>200.418644</td>\n",
       "      <td>281.092885</td>\n",
       "    </tr>\n",
       "    <tr>\n",
       "      <th>4658595883120885993</th>\n",
       "      <td>215.218327</td>\n",
       "      <td>279.414560</td>\n",
       "    </tr>\n",
       "    <tr>\n",
       "      <th>5387097547938806535</th>\n",
       "      <td>149.053532</td>\n",
       "      <td>196.446707</td>\n",
       "    </tr>\n",
       "    <tr>\n",
       "      <th>3619272498251215842</th>\n",
       "      <td>142.088606</td>\n",
       "      <td>172.984799</td>\n",
       "    </tr>\n",
       "  </tbody>\n",
       "</table>\n",
       "</div>"
      ],
      "text/plain": [
       "                            mean          std\n",
       "category                                     \n",
       "7164285449278522823  1955.979431  3164.815179\n",
       "2343719193625129042   943.989905  2471.247604\n",
       "6549025562984299367   410.800302  1899.114650\n",
       "2923341857645916506   806.675364  1613.975843\n",
       "7948270325129383019   792.677807  1352.172272\n",
       "1793067034829450750   497.431001  1073.795206\n",
       "4409084324312788296   379.733922   889.850240\n",
       "3358911609809004109   403.792946   791.225418\n",
       "3187769798308634693   467.654020   790.312625\n",
       "6742557862815872936   503.182713   778.842570\n",
       "174490086998335078    325.149759   764.813512\n",
       "264558924403680107    509.373364   747.222091\n",
       "4546178272531746227   510.431362   717.762308\n",
       "5858189596811644833   527.746677   699.154653\n",
       "91460430793700892     441.861699   651.938097\n",
       "5736208844128861898   321.823084   625.686617\n",
       "57514010642945023     347.826167   605.864274\n",
       "1472231361867825698   258.353200   594.984151\n",
       "5983323600580891431   433.565037   535.078480\n",
       "5284347926600386297   455.255782   534.420842\n",
       "7204754148424990691   352.174948   511.821260\n",
       "6864443610550051939   233.014721   471.848055\n",
       "1560592244484430230   313.285665   464.354426\n",
       "320230973495659885    286.013254   414.997017\n",
       "282115902545472456    260.778575   354.734991\n",
       "2965866302161963961   196.501761   350.682200\n",
       "6847326422676498281   167.567493   311.475321\n",
       "4394253463123676325   136.595029   300.843418\n",
       "7247164925237372155   155.169288   285.421869\n",
       "3429514168013826643   200.418644   281.092885\n",
       "4658595883120885993   215.218327   279.414560\n",
       "5387097547938806535   149.053532   196.446707\n",
       "3619272498251215842   142.088606   172.984799"
      ]
     },
     "execution_count": 9,
     "metadata": {},
     "output_type": "execute_result"
    }
   ],
   "source": [
    "df.groupby('category').agg({'revenue_amount': ['mean', 'std']})['revenue_amount'].sort_values('std', ascending=False)"
   ]
  },
  {
   "cell_type": "markdown",
   "metadata": {},
   "source": [
    "### MDE"
   ]
  },
  {
   "cell_type": "code",
   "execution_count": 14,
   "metadata": {},
   "outputs": [],
   "source": [
    "from scipy.stats import t,sem"
   ]
  },
  {
   "cell_type": "code",
   "execution_count": 15,
   "metadata": {},
   "outputs": [],
   "source": [
    "def choose_date(data, start_date, delta): \n",
    "    tmp = data[(data.event_date<start_date)&(data.event_date>=start_date-datetime.timedelta(days=delta))]\n",
    "    tmp=tmp.groupby(['user_id']).sum().reset_index()\n",
    "    return tmp"
   ]
  },
  {
   "cell_type": "code",
   "execution_count": 16,
   "metadata": {},
   "outputs": [],
   "source": [
    "def mde(df, size, alpha=0.01, power=0.8, metrics='revenue_amount'):\n",
    "    mde = (\n",
    "        t(len(df)).ppf(1 - alpha/2) \n",
    "        + \n",
    "        t(len(df)).ppf(power)\n",
    "          )* df[metrics].std() * ((1/size+1/(1-size))/df[metrics].count())**0.5/df[metrics].mean()\n",
    "    return mde "
   ]
  },
  {
   "cell_type": "code",
   "execution_count": 17,
   "metadata": {},
   "outputs": [],
   "source": [
    "days=[30, 60, 90]\n",
    "size_group = [0.1, 0.25, 0.5]"
   ]
  },
  {
   "cell_type": "code",
   "execution_count": 18,
   "metadata": {},
   "outputs": [
    {
     "name": "stdout",
     "output_type": "stream",
     "text": [
      "size group=0.1, days=30, mde=0.10970108973632672\n",
      "size group=0.1, days=60, mde=0.10133541838779497\n",
      "size group=0.1, days=90, mde=0.09626173184085682\n",
      "size group=0.25, days=30, mde=0.07600314442759622\n",
      "size group=0.25, days=60, mde=0.07020723730156414\n",
      "size group=0.25, days=90, mde=0.0666920841491739\n",
      "size group=0.5, days=30, mde=0.06582065384179603\n",
      "size group=0.5, days=60, mde=0.06080125103267697\n",
      "size group=0.5, days=90, mde=0.057757039104514095\n"
     ]
    }
   ],
   "source": [
    "for size in size_group:\n",
    "    for day in days:\n",
    "        data=choose_date(df, datetime.datetime(2019, 11, 9, 0, 0), day)\n",
    "        print(f'size group={size}, days={day}, mde={mde(data,size)}')\n",
    "        "
   ]
  },
  {
   "cell_type": "code",
   "execution_count": null,
   "metadata": {},
   "outputs": [],
   "source": []
  },
  {
   "cell_type": "code",
   "execution_count": null,
   "metadata": {},
   "outputs": [],
   "source": []
  },
  {
   "cell_type": "markdown",
   "metadata": {},
   "source": [
    "### CUPED"
   ]
  },
  {
   "cell_type": "code",
   "execution_count": 19,
   "metadata": {},
   "outputs": [],
   "source": [
    "def find_the_preperiod_data(df, delta=30, before_day=30, start_date=datetime.datetime(2019, 10, 9, 0, 0)):\n",
    "    df=df[['user_id','event_date','revenue_amount']]\n",
    "    experement_data=df[(df.event_date>start_date)&(df.event_date<=start_date+datetime.timedelta(days=delta))]\n",
    "    preperiod_data=df[(df.event_date<start_date)&(df.event_date>=start_date-datetime.timedelta(days=before_day))]\n",
    "    x1=experement_data.groupby(['user_id']).sum().reset_index()\n",
    "    x2=preperiod_data.groupby(['user_id']).sum().reset_index()\n",
    "    result=x1.merge(x2, how='left', on='user_id')\n",
    "    result.fillna(0, inplace=True)\n",
    "    result.rename(columns={'revenue_amount_x': 'revenue_amount', 'revenue_amount_y': 'pre_revenue_amount'}, inplace=True)\n",
    "    return result"
   ]
  },
  {
   "cell_type": "code",
   "execution_count": 20,
   "metadata": {},
   "outputs": [
    {
     "data": {
      "text/html": [
       "<div>\n",
       "<style scoped>\n",
       "    .dataframe tbody tr th:only-of-type {\n",
       "        vertical-align: middle;\n",
       "    }\n",
       "\n",
       "    .dataframe tbody tr th {\n",
       "        vertical-align: top;\n",
       "    }\n",
       "\n",
       "    .dataframe thead th {\n",
       "        text-align: right;\n",
       "    }\n",
       "</style>\n",
       "<table border=\"1\" class=\"dataframe\">\n",
       "  <thead>\n",
       "    <tr style=\"text-align: right;\">\n",
       "      <th></th>\n",
       "      <th>user_id</th>\n",
       "      <th>revenue_amount</th>\n",
       "      <th>pre_revenue_amount</th>\n",
       "    </tr>\n",
       "  </thead>\n",
       "  <tbody>\n",
       "    <tr>\n",
       "      <th>0</th>\n",
       "      <td>9257530993551</td>\n",
       "      <td>90</td>\n",
       "      <td>90.0</td>\n",
       "    </tr>\n",
       "    <tr>\n",
       "      <th>1</th>\n",
       "      <td>23708868092799</td>\n",
       "      <td>370</td>\n",
       "      <td>370.0</td>\n",
       "    </tr>\n",
       "    <tr>\n",
       "      <th>2</th>\n",
       "      <td>39239811475386</td>\n",
       "      <td>469</td>\n",
       "      <td>488.0</td>\n",
       "    </tr>\n",
       "    <tr>\n",
       "      <th>3</th>\n",
       "      <td>51991933272698</td>\n",
       "      <td>6152</td>\n",
       "      <td>3874.0</td>\n",
       "    </tr>\n",
       "    <tr>\n",
       "      <th>4</th>\n",
       "      <td>74011751568808</td>\n",
       "      <td>69</td>\n",
       "      <td>0.0</td>\n",
       "    </tr>\n",
       "  </tbody>\n",
       "</table>\n",
       "</div>"
      ],
      "text/plain": [
       "          user_id  revenue_amount  pre_revenue_amount\n",
       "0   9257530993551              90                90.0\n",
       "1  23708868092799             370               370.0\n",
       "2  39239811475386             469               488.0\n",
       "3  51991933272698            6152              3874.0\n",
       "4  74011751568808              69                 0.0"
      ]
     },
     "execution_count": 20,
     "metadata": {},
     "output_type": "execute_result"
    }
   ],
   "source": [
    "find_the_preperiod_data(df).head(5)"
   ]
  },
  {
   "cell_type": "code",
   "execution_count": 21,
   "metadata": {},
   "outputs": [],
   "source": [
    "def cuped_metric(data):\n",
    "    data['pre_revenue_amount_average']=data.pre_revenue_amount.mean()\n",
    "    teta = np.cov(data.revenue_amount,data.pre_revenue_amount, ddof=1)[1,0]/np.var(data.pre_revenue_amount, ddof=1)\n",
    "    data['cuped_revenue'] = data.revenue_amount - teta * (data.pre_revenue_amount - data.pre_revenue_amount_average)\n",
    "    return data"
   ]
  },
  {
   "cell_type": "code",
   "execution_count": 24,
   "metadata": {},
   "outputs": [
    {
     "data": {
      "text/html": [
       "<div>\n",
       "<style scoped>\n",
       "    .dataframe tbody tr th:only-of-type {\n",
       "        vertical-align: middle;\n",
       "    }\n",
       "\n",
       "    .dataframe tbody tr th {\n",
       "        vertical-align: top;\n",
       "    }\n",
       "\n",
       "    .dataframe thead th {\n",
       "        text-align: right;\n",
       "    }\n",
       "</style>\n",
       "<table border=\"1\" class=\"dataframe\">\n",
       "  <thead>\n",
       "    <tr style=\"text-align: right;\">\n",
       "      <th></th>\n",
       "      <th>user_id</th>\n",
       "      <th>revenue_amount</th>\n",
       "      <th>pre_revenue_amount</th>\n",
       "      <th>pre_revenue_amount_average</th>\n",
       "      <th>cuped_revenue</th>\n",
       "    </tr>\n",
       "  </thead>\n",
       "  <tbody>\n",
       "    <tr>\n",
       "      <th>0</th>\n",
       "      <td>9257530993551</td>\n",
       "      <td>90</td>\n",
       "      <td>90.0</td>\n",
       "      <td>835.314426</td>\n",
       "      <td>780.593789</td>\n",
       "    </tr>\n",
       "    <tr>\n",
       "      <th>1</th>\n",
       "      <td>23708868092799</td>\n",
       "      <td>370</td>\n",
       "      <td>370.0</td>\n",
       "      <td>835.314426</td>\n",
       "      <td>801.151259</td>\n",
       "    </tr>\n",
       "    <tr>\n",
       "      <th>2</th>\n",
       "      <td>39239811475386</td>\n",
       "      <td>469</td>\n",
       "      <td>488.0</td>\n",
       "      <td>835.314426</td>\n",
       "      <td>790.814763</td>\n",
       "    </tr>\n",
       "    <tr>\n",
       "      <th>3</th>\n",
       "      <td>51991933272698</td>\n",
       "      <td>6152</td>\n",
       "      <td>3874.0</td>\n",
       "      <td>835.314426</td>\n",
       "      <td>3336.413301</td>\n",
       "    </tr>\n",
       "    <tr>\n",
       "      <th>4</th>\n",
       "      <td>74011751568808</td>\n",
       "      <td>69</td>\n",
       "      <td>0.0</td>\n",
       "      <td>835.314426</td>\n",
       "      <td>842.986031</td>\n",
       "    </tr>\n",
       "    <tr>\n",
       "      <th>5</th>\n",
       "      <td>88433173713624</td>\n",
       "      <td>34</td>\n",
       "      <td>68.0</td>\n",
       "      <td>835.314426</td>\n",
       "      <td>744.978560</td>\n",
       "    </tr>\n",
       "    <tr>\n",
       "      <th>6</th>\n",
       "      <td>105983947822825</td>\n",
       "      <td>21</td>\n",
       "      <td>0.0</td>\n",
       "      <td>835.314426</td>\n",
       "      <td>794.986031</td>\n",
       "    </tr>\n",
       "    <tr>\n",
       "      <th>7</th>\n",
       "      <td>121504130217764</td>\n",
       "      <td>63</td>\n",
       "      <td>0.0</td>\n",
       "      <td>835.314426</td>\n",
       "      <td>836.986031</td>\n",
       "    </tr>\n",
       "    <tr>\n",
       "      <th>8</th>\n",
       "      <td>190749703841233</td>\n",
       "      <td>28</td>\n",
       "      <td>0.0</td>\n",
       "      <td>835.314426</td>\n",
       "      <td>801.986031</td>\n",
       "    </tr>\n",
       "    <tr>\n",
       "      <th>9</th>\n",
       "      <td>207951365198201</td>\n",
       "      <td>91</td>\n",
       "      <td>0.0</td>\n",
       "      <td>835.314426</td>\n",
       "      <td>864.986031</td>\n",
       "    </tr>\n",
       "  </tbody>\n",
       "</table>\n",
       "</div>"
      ],
      "text/plain": [
       "           user_id  revenue_amount  pre_revenue_amount  \\\n",
       "0    9257530993551              90                90.0   \n",
       "1   23708868092799             370               370.0   \n",
       "2   39239811475386             469               488.0   \n",
       "3   51991933272698            6152              3874.0   \n",
       "4   74011751568808              69                 0.0   \n",
       "5   88433173713624              34                68.0   \n",
       "6  105983947822825              21                 0.0   \n",
       "7  121504130217764              63                 0.0   \n",
       "8  190749703841233              28                 0.0   \n",
       "9  207951365198201              91                 0.0   \n",
       "\n",
       "   pre_revenue_amount_average  cuped_revenue  \n",
       "0                  835.314426     780.593789  \n",
       "1                  835.314426     801.151259  \n",
       "2                  835.314426     790.814763  \n",
       "3                  835.314426    3336.413301  \n",
       "4                  835.314426     842.986031  \n",
       "5                  835.314426     744.978560  \n",
       "6                  835.314426     794.986031  \n",
       "7                  835.314426     836.986031  \n",
       "8                  835.314426     801.986031  \n",
       "9                  835.314426     864.986031  "
      ]
     },
     "execution_count": 24,
     "metadata": {},
     "output_type": "execute_result"
    }
   ],
   "source": [
    "cuped_df=cuped_metric(find_the_preperiod_data(df))\n",
    "cuped_df.head(10)"
   ]
  },
  {
   "cell_type": "markdown",
   "metadata": {},
   "source": [
    "#### MDE"
   ]
  },
  {
   "cell_type": "markdown",
   "metadata": {},
   "source": [
    "revenue:"
   ]
  },
  {
   "cell_type": "code",
   "execution_count": 25,
   "metadata": {},
   "outputs": [
    {
     "data": {
      "text/plain": [
       "0.06582065384179603"
      ]
     },
     "execution_count": 25,
     "metadata": {},
     "output_type": "execute_result"
    }
   ],
   "source": [
    "revenue_mde=mde(cuped_df, size=0.5, alpha=0.01, power=0.8, metrics='revenue_amount')\n",
    "revenue_mde"
   ]
  },
  {
   "cell_type": "markdown",
   "metadata": {},
   "source": [
    "cuped_revenue:"
   ]
  },
  {
   "cell_type": "code",
   "execution_count": 26,
   "metadata": {},
   "outputs": [
    {
     "data": {
      "text/plain": [
       "0.031059842978399414"
      ]
     },
     "execution_count": 26,
     "metadata": {},
     "output_type": "execute_result"
    }
   ],
   "source": [
    "cuped_revenue_mde=mde(cuped_df, size=0.5, alpha=0.01, power=0.8, metrics='cuped_revenue')\n",
    "cuped_revenue_mde"
   ]
  },
  {
   "cell_type": "code",
   "execution_count": 27,
   "metadata": {},
   "outputs": [
    {
     "name": "stdout",
     "output_type": "stream",
     "text": [
      "MDE уменьшился в 2.12 раза\n"
     ]
    }
   ],
   "source": [
    "print(f'MDE уменьшился в {round(revenue_mde/cuped_revenue_mde,2)} раза')"
   ]
  },
  {
   "cell_type": "markdown",
   "metadata": {},
   "source": [
    "#### Проверьте насколько данный подход подвержен сезональности"
   ]
  },
  {
   "cell_type": "code",
   "execution_count": 28,
   "metadata": {},
   "outputs": [],
   "source": [
    "mounth=[7, 8, 9, 10, 11]"
   ]
  },
  {
   "cell_type": "code",
   "execution_count": 29,
   "metadata": {},
   "outputs": [
    {
     "name": "stdout",
     "output_type": "stream",
     "text": [
      "MDE уменьшился в 1.78 раза в 7 месяце\n",
      "MDE уменьшился в 2.06 раза в 8 месяце\n",
      "MDE уменьшился в 1.88 раза в 9 месяце\n",
      "MDE уменьшился в 2.12 раза в 10 месяце\n",
      "MDE уменьшился в 2.05 раза в 11 месяце\n"
     ]
    }
   ],
   "source": [
    "for m in mounth:    \n",
    "    pre_data=find_the_preperiod_data(df, delta=30, start_date=datetime.datetime(2019, m, 9, 0, 0))\n",
    "    cuped_df=cuped_metric(pre_data)\n",
    "    revenue_mde=mde(cuped_df, size=0.5, alpha=0.01, power=0.8, metrics='revenue_amount')\n",
    "    cuped_revenue_mde=mde(cuped_df, size=0.5, alpha=0.01, power=0.8, metrics='cuped_revenue')\n",
    "    print(f'MDE уменьшился в {round(revenue_mde/cuped_revenue_mde,2)} раза в {m} месяце')"
   ]
  },
  {
   "cell_type": "markdown",
   "metadata": {},
   "source": [
    "#### Оптимизируйте подход варьируя количество дней до теста"
   ]
  },
  {
   "cell_type": "code",
   "execution_count": 30,
   "metadata": {},
   "outputs": [],
   "source": [
    "days_before=[i for i in range(5,95,5)]"
   ]
  },
  {
   "cell_type": "code",
   "execution_count": 31,
   "metadata": {},
   "outputs": [
    {
     "name": "stdout",
     "output_type": "stream",
     "text": [
      "MDE уменьшился в 1.62 раза, если брать 5 дней до теста\n",
      "MDE уменьшился в 1.87 раза, если брать 10 дней до теста\n",
      "MDE уменьшился в 2.02 раза, если брать 15 дней до теста\n",
      "MDE уменьшился в 2.08 раза, если брать 20 дней до теста\n",
      "MDE уменьшился в 2.1 раза, если брать 25 дней до теста\n",
      "MDE уменьшился в 2.12 раза, если брать 30 дней до теста\n",
      "MDE уменьшился в 2.14 раза, если брать 35 дней до теста\n",
      "MDE уменьшился в 2.16 раза, если брать 40 дней до теста\n",
      "MDE уменьшился в 2.1 раза, если брать 45 дней до теста\n",
      "MDE уменьшился в 2.06 раза, если брать 50 дней до теста\n",
      "MDE уменьшился в 2.04 раза, если брать 55 дней до теста\n",
      "MDE уменьшился в 2.0 раза, если брать 60 дней до теста\n",
      "MDE уменьшился в 1.96 раза, если брать 65 дней до теста\n",
      "MDE уменьшился в 1.95 раза, если брать 70 дней до теста\n",
      "MDE уменьшился в 1.92 раза, если брать 75 дней до теста\n",
      "MDE уменьшился в 1.89 раза, если брать 80 дней до теста\n",
      "MDE уменьшился в 1.88 раза, если брать 85 дней до теста\n",
      "MDE уменьшился в 1.86 раза, если брать 90 дней до теста\n"
     ]
    }
   ],
   "source": [
    "for before_day in days_before:    \n",
    "    pre_data=find_the_preperiod_data(df, delta=30,before_day=before_day, start_date=datetime.datetime(2019, 10, 9, 0, 0))\n",
    "    cuped_df=cuped_metric(pre_data)\n",
    "    revenue_mde=mde(cuped_df, size=0.5, alpha=0.01, power=0.8, metrics='revenue_amount')\n",
    "    cuped_revenue_mde=mde(cuped_df, size=0.5, alpha=0.01, power=0.8, metrics='cuped_revenue')\n",
    "    print(f'MDE уменьшился в {round(revenue_mde/cuped_revenue_mde,2)} раза, если брать {before_day} дней до теста')"
   ]
  },
  {
   "cell_type": "markdown",
   "metadata": {},
   "source": [
    "Максимальное снижение в 2.16 раза"
   ]
  },
  {
   "cell_type": "markdown",
   "metadata": {},
   "source": [
    "### Стратификация "
   ]
  },
  {
   "cell_type": "code",
   "execution_count": 32,
   "metadata": {},
   "outputs": [],
   "source": [
    "list_strata=['user_segment', 'category', 'region']"
   ]
  },
  {
   "cell_type": "code",
   "execution_count": 36,
   "metadata": {},
   "outputs": [
    {
     "name": "stdout",
     "output_type": "stream",
     "text": [
      "Страта user_segment, std_strata = 0.3140204036144855, std_df = 0.326942053194587\n",
      "Страта category, std_strata = 0.3206618426638745, std_df = 0.326942053194587\n",
      "Страта region, std_strata = 0.3229764703528736, std_df = 0.326942053194587\n"
     ]
    }
   ],
   "source": [
    "for strat in ['user_segment', 'category', 'region']:\n",
    "    strata_p = df[[strat,'revenue_amount']].groupby([strat]).count()/df.count()[0]\n",
    "    data_test=df.join(strata_p, on=strat, rsuffix='_probality')\n",
    "    std_df=(data_test.revenue_amount.var()/data_test.count()[0])**0.5\n",
    "    std_strata=((data_test.groupby([strat]).var().revenue_amount*\n",
    "                 data_test.groupby([strat]).mean().revenue_amount_probality).sum()/data_test.count()[0])**0.5\n",
    "    \n",
    "    print(f'Страта {strat}, std_strata = {std_strata}, std_df = {std_df}')"
   ]
  },
  {
   "cell_type": "markdown",
   "metadata": {},
   "source": [
    "Видно, что стратификация не практически не снизила дисперсию, следовательно, и мде останется практически не именным. Стратификация не дала эффекта в данном случае  "
   ]
  },
  {
   "cell_type": "code",
   "execution_count": null,
   "metadata": {},
   "outputs": [],
   "source": []
  }
 ],
 "metadata": {
  "kernelspec": {
   "display_name": "Python 3 (ipykernel)",
   "language": "python",
   "name": "python3"
  },
  "language_info": {
   "codemirror_mode": {
    "name": "ipython",
    "version": 3
   },
   "file_extension": ".py",
   "mimetype": "text/x-python",
   "name": "python",
   "nbconvert_exporter": "python",
   "pygments_lexer": "ipython3",
   "version": "3.10.0"
  }
 },
 "nbformat": 4,
 "nbformat_minor": 4
}
