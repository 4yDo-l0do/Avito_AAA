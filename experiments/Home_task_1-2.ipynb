{
 "cells": [
  {
   "cell_type": "code",
   "execution_count": 1,
   "metadata": {},
   "outputs": [],
   "source": [
    "import pandas as pd\n",
    "import matplotlib.pyplot as plt\n",
    "import numpy as np\n",
    "import seaborn as sns\n",
    "import datetime \n",
    "import random\n",
    "from statsmodels.stats.power import tt_ind_solve_power\n",
    "\n",
    "def date_converter(x):\n",
    "    return datetime.datetime.strptime(x,'%Y-%m-%d')"
   ]
  },
  {
   "cell_type": "markdown",
   "metadata": {},
   "source": [
    "Срок выполнения задания: 17 марта 17:00.\n",
    "\n",
    "\n",
    "### Задание\n",
    "Вам предстоит разработать дизайн эксперимента по тестированию монетизационных продуктов.\n",
    "В конечном счёте, в монтизационных продуктах нас всегда интересует увеличение выручки, \n",
    "но к сожалению не всегда мы можем зафиксировать изменение именно этой метрики.\n",
    "\n",
    "#### Кейс\n",
    "Вы аналитик в продуктовой дискавери команде.\n",
    "На текущий момент приближается начало нового квартала и вам необходимо спланировать\n",
    "эксперименты в нём.\n",
    "\n",
    "У вас есть два продукта:\n",
    "- один базовый продукт, который предоставляет минимальный набор услуг на вашем ресурсе;\n",
    "- один продвинутый продукт, который предоставляет расширенный набор услуг.\n",
    "\n",
    "На текущий момент на квартал у вашей команды есть для проверки две гипотезы:\n",
    "- Дополнительное информирование об эффективности услуг будет стимулировать их покупку;\n",
    "- Повышение цены базового продукта должно стимулировать покупку продвинутого продукта\n"
   ]
  },
  {
   "cell_type": "markdown",
   "metadata": {},
   "source": [
    "#### Для планирования эксперимента изучите данные и метрики (2 балла):\n",
    "\n",
    "- Загрузите файл и изучите данные;\n",
    "- Подумайте над тем, какие метрики можно выделить на основе этих данных: выручка, пользователи, транзакции, средний чек и т.д.\n",
    "- Постройте графики плотности распределения для этих метрик и сделайте выводы о характере распределений: тип, наличие выбросов, насколько сильный разброс;\n",
    "- Изучите основные статистики этих метрик: среднее, стандартное отклонение;\n",
    "- Изучите то, насколько эти статистики подвержены сезональности.\n",
    "\n",
    "\n",
    "#### Формализуйте гипотезы (4 балла):\n",
    "\n",
    "- Опишите метрики и статистики, изменение которых вы ожидаете;\n",
    "- Предположите какое относительное изменение этих статистик в процентах вы ожидаете.\n",
    "\n",
    "#### Предскажите минимально детектируемый эффект для своих метрик и спланируйте эксперименты внутри квартала (4 балла):\n",
    "\n",
    "- Принимая в расчёт максимально возможные размеры групп и ограничения по длительности в квартал рассмотрите разные планы проведения тестов и предскажите их чувствительность;\n",
    "- Определите наиболее оптимальный план экспериментов. Обоснуйте, почему вы его считаете оптимальным.\n",
    "\n",
    "\n",
    "#### * Оптимизация плана (2 балла):\n",
    "Предложите варианты ускорения экспериментов — всегда могут образоваться ситуации, когда ваши гипотезы не подтвердились и они требуют изменения или уточнения и необходимости повторных тестов. Цели достигать всегда хорошо в рамках отведённого на них срока. Какие параметры экспериментов вы поменяете? К каким последствиям могут привести такие изменения?"
   ]
  },
  {
   "cell_type": "markdown",
   "metadata": {},
   "source": [
    "#### Описание данныx\n",
    "\n",
    "event_date - дата \n",
    "\n",
    "user_id - идентификатор пользователя\n",
    "\n",
    "product - тип продукта\n",
    "\n",
    "amount - сумма покупок\n",
    "\n",
    "transactions - количество транзакций\n"
   ]
  },
  {
   "cell_type": "code",
   "execution_count": 2,
   "metadata": {},
   "outputs": [],
   "source": [
    "df = pd.read_csv('user_transactions.csv')\n",
    "df['event_date']=df.event_date.apply(date_converter)\n",
    "df['avg']=df.amount/df.transactions"
   ]
  },
  {
   "cell_type": "markdown",
   "metadata": {},
   "source": [
    "#### 1) Изучение данных "
   ]
  },
  {
   "cell_type": "code",
   "execution_count": 3,
   "metadata": {},
   "outputs": [
    {
     "data": {
      "text/html": [
       "<div>\n",
       "<style scoped>\n",
       "    .dataframe tbody tr th:only-of-type {\n",
       "        vertical-align: middle;\n",
       "    }\n",
       "\n",
       "    .dataframe tbody tr th {\n",
       "        vertical-align: top;\n",
       "    }\n",
       "\n",
       "    .dataframe thead th {\n",
       "        text-align: right;\n",
       "    }\n",
       "</style>\n",
       "<table border=\"1\" class=\"dataframe\">\n",
       "  <thead>\n",
       "    <tr style=\"text-align: right;\">\n",
       "      <th></th>\n",
       "      <th>event_date</th>\n",
       "      <th>user_id</th>\n",
       "      <th>product</th>\n",
       "      <th>amount</th>\n",
       "      <th>transactions</th>\n",
       "      <th>avg</th>\n",
       "    </tr>\n",
       "  </thead>\n",
       "  <tbody>\n",
       "    <tr>\n",
       "      <th>0</th>\n",
       "      <td>2020-09-29</td>\n",
       "      <td>40746820883461494</td>\n",
       "      <td>basic</td>\n",
       "      <td>95.0</td>\n",
       "      <td>1</td>\n",
       "      <td>95.0</td>\n",
       "    </tr>\n",
       "    <tr>\n",
       "      <th>1</th>\n",
       "      <td>2020-09-29</td>\n",
       "      <td>41102328408008828</td>\n",
       "      <td>advanced</td>\n",
       "      <td>279.0</td>\n",
       "      <td>1</td>\n",
       "      <td>279.0</td>\n",
       "    </tr>\n",
       "    <tr>\n",
       "      <th>2</th>\n",
       "      <td>2020-09-29</td>\n",
       "      <td>63464894315144075</td>\n",
       "      <td>basic</td>\n",
       "      <td>64.0</td>\n",
       "      <td>1</td>\n",
       "      <td>64.0</td>\n",
       "    </tr>\n",
       "    <tr>\n",
       "      <th>3</th>\n",
       "      <td>2020-09-29</td>\n",
       "      <td>111526991873455341</td>\n",
       "      <td>basic</td>\n",
       "      <td>399.0</td>\n",
       "      <td>1</td>\n",
       "      <td>399.0</td>\n",
       "    </tr>\n",
       "    <tr>\n",
       "      <th>4</th>\n",
       "      <td>2020-09-29</td>\n",
       "      <td>169522572963414231</td>\n",
       "      <td>basic</td>\n",
       "      <td>199.0</td>\n",
       "      <td>1</td>\n",
       "      <td>199.0</td>\n",
       "    </tr>\n",
       "  </tbody>\n",
       "</table>\n",
       "</div>"
      ],
      "text/plain": [
       "  event_date             user_id   product  amount  transactions    avg\n",
       "0 2020-09-29   40746820883461494     basic    95.0             1   95.0\n",
       "1 2020-09-29   41102328408008828  advanced   279.0             1  279.0\n",
       "2 2020-09-29   63464894315144075     basic    64.0             1   64.0\n",
       "3 2020-09-29  111526991873455341     basic   399.0             1  399.0\n",
       "4 2020-09-29  169522572963414231     basic   199.0             1  199.0"
      ]
     },
     "execution_count": 3,
     "metadata": {},
     "output_type": "execute_result"
    }
   ],
   "source": [
    "df.head()"
   ]
  },
  {
   "cell_type": "markdown",
   "metadata": {},
   "source": [
    "Выделим основные метрики для проверки гипотез:\n",
    "    \n",
    "    1) число транзакций с одного пользоватедля\n",
    "    \n",
    "    2) средний чек с одной транзакции \n",
    "    \n",
    "    3) долю advanced тарифа\n",
    "\n",
    "Также будем использовать разбивку по месяцам и типу тарифа \n",
    "\n",
    "Посмотрим, как распределены данные в разрезе тарифа:"
   ]
  },
  {
   "cell_type": "code",
   "execution_count": 4,
   "metadata": {},
   "outputs": [],
   "source": [
    "df_basic=df[df['product'] == 'basic']"
   ]
  },
  {
   "cell_type": "code",
   "execution_count": 5,
   "metadata": {},
   "outputs": [
    {
     "data": {
      "text/html": [
       "<div>\n",
       "<style scoped>\n",
       "    .dataframe tbody tr th:only-of-type {\n",
       "        vertical-align: middle;\n",
       "    }\n",
       "\n",
       "    .dataframe tbody tr th {\n",
       "        vertical-align: top;\n",
       "    }\n",
       "\n",
       "    .dataframe thead th {\n",
       "        text-align: right;\n",
       "    }\n",
       "</style>\n",
       "<table border=\"1\" class=\"dataframe\">\n",
       "  <thead>\n",
       "    <tr style=\"text-align: right;\">\n",
       "      <th></th>\n",
       "      <th>user_id</th>\n",
       "      <th>amount</th>\n",
       "      <th>transactions</th>\n",
       "      <th>avg</th>\n",
       "    </tr>\n",
       "  </thead>\n",
       "  <tbody>\n",
       "    <tr>\n",
       "      <th>count</th>\n",
       "      <td>9.904280e+05</td>\n",
       "      <td>990428.000000</td>\n",
       "      <td>990428.000000</td>\n",
       "      <td>990428.000000</td>\n",
       "    </tr>\n",
       "    <tr>\n",
       "      <th>mean</th>\n",
       "      <td>4.617406e+18</td>\n",
       "      <td>164.003625</td>\n",
       "      <td>1.296846</td>\n",
       "      <td>127.697391</td>\n",
       "    </tr>\n",
       "    <tr>\n",
       "      <th>std</th>\n",
       "      <td>2.660018e+18</td>\n",
       "      <td>233.032281</td>\n",
       "      <td>1.527605</td>\n",
       "      <td>77.028749</td>\n",
       "    </tr>\n",
       "    <tr>\n",
       "      <th>min</th>\n",
       "      <td>1.912220e+12</td>\n",
       "      <td>8.000000</td>\n",
       "      <td>1.000000</td>\n",
       "      <td>8.000000</td>\n",
       "    </tr>\n",
       "    <tr>\n",
       "      <th>25%</th>\n",
       "      <td>2.309786e+18</td>\n",
       "      <td>80.000000</td>\n",
       "      <td>1.000000</td>\n",
       "      <td>76.000000</td>\n",
       "    </tr>\n",
       "    <tr>\n",
       "      <th>50%</th>\n",
       "      <td>4.623599e+18</td>\n",
       "      <td>120.000000</td>\n",
       "      <td>1.000000</td>\n",
       "      <td>100.000000</td>\n",
       "    </tr>\n",
       "    <tr>\n",
       "      <th>75%</th>\n",
       "      <td>6.915631e+18</td>\n",
       "      <td>199.000000</td>\n",
       "      <td>1.000000</td>\n",
       "      <td>169.000000</td>\n",
       "    </tr>\n",
       "    <tr>\n",
       "      <th>95%</th>\n",
       "      <td>8.768598e+18</td>\n",
       "      <td>399.000000</td>\n",
       "      <td>3.000000</td>\n",
       "      <td>270.000000</td>\n",
       "    </tr>\n",
       "    <tr>\n",
       "      <th>max</th>\n",
       "      <td>9.223362e+18</td>\n",
       "      <td>108186.000000</td>\n",
       "      <td>768.000000</td>\n",
       "      <td>529.000000</td>\n",
       "    </tr>\n",
       "  </tbody>\n",
       "</table>\n",
       "</div>"
      ],
      "text/plain": [
       "            user_id         amount   transactions            avg\n",
       "count  9.904280e+05  990428.000000  990428.000000  990428.000000\n",
       "mean   4.617406e+18     164.003625       1.296846     127.697391\n",
       "std    2.660018e+18     233.032281       1.527605      77.028749\n",
       "min    1.912220e+12       8.000000       1.000000       8.000000\n",
       "25%    2.309786e+18      80.000000       1.000000      76.000000\n",
       "50%    4.623599e+18     120.000000       1.000000     100.000000\n",
       "75%    6.915631e+18     199.000000       1.000000     169.000000\n",
       "95%    8.768598e+18     399.000000       3.000000     270.000000\n",
       "max    9.223362e+18  108186.000000     768.000000     529.000000"
      ]
     },
     "execution_count": 5,
     "metadata": {},
     "output_type": "execute_result"
    }
   ],
   "source": [
    "df_basic.describe(percentiles=[0.25,0.50,0.75,0.95])"
   ]
  },
  {
   "cell_type": "code",
   "execution_count": 6,
   "metadata": {},
   "outputs": [],
   "source": [
    "df_advanced=df[df['product'] == 'advanced']"
   ]
  },
  {
   "cell_type": "code",
   "execution_count": 7,
   "metadata": {},
   "outputs": [
    {
     "data": {
      "text/html": [
       "<div>\n",
       "<style scoped>\n",
       "    .dataframe tbody tr th:only-of-type {\n",
       "        vertical-align: middle;\n",
       "    }\n",
       "\n",
       "    .dataframe tbody tr th {\n",
       "        vertical-align: top;\n",
       "    }\n",
       "\n",
       "    .dataframe thead th {\n",
       "        text-align: right;\n",
       "    }\n",
       "</style>\n",
       "<table border=\"1\" class=\"dataframe\">\n",
       "  <thead>\n",
       "    <tr style=\"text-align: right;\">\n",
       "      <th></th>\n",
       "      <th>user_id</th>\n",
       "      <th>amount</th>\n",
       "      <th>transactions</th>\n",
       "      <th>avg</th>\n",
       "    </tr>\n",
       "  </thead>\n",
       "  <tbody>\n",
       "    <tr>\n",
       "      <th>count</th>\n",
       "      <td>2.877580e+05</td>\n",
       "      <td>287758.000000</td>\n",
       "      <td>287758.000000</td>\n",
       "      <td>287758.000000</td>\n",
       "    </tr>\n",
       "    <tr>\n",
       "      <th>mean</th>\n",
       "      <td>4.603347e+18</td>\n",
       "      <td>499.179714</td>\n",
       "      <td>1.278383</td>\n",
       "      <td>388.828622</td>\n",
       "    </tr>\n",
       "    <tr>\n",
       "      <th>std</th>\n",
       "      <td>2.646895e+18</td>\n",
       "      <td>583.444202</td>\n",
       "      <td>1.453016</td>\n",
       "      <td>261.807085</td>\n",
       "    </tr>\n",
       "    <tr>\n",
       "      <th>min</th>\n",
       "      <td>1.809139e+12</td>\n",
       "      <td>20.000000</td>\n",
       "      <td>1.000000</td>\n",
       "      <td>20.000000</td>\n",
       "    </tr>\n",
       "    <tr>\n",
       "      <th>25%</th>\n",
       "      <td>2.321055e+18</td>\n",
       "      <td>202.000000</td>\n",
       "      <td>1.000000</td>\n",
       "      <td>199.000000</td>\n",
       "    </tr>\n",
       "    <tr>\n",
       "      <th>50%</th>\n",
       "      <td>4.620357e+18</td>\n",
       "      <td>369.000000</td>\n",
       "      <td>1.000000</td>\n",
       "      <td>330.000000</td>\n",
       "    </tr>\n",
       "    <tr>\n",
       "      <th>75%</th>\n",
       "      <td>6.880639e+18</td>\n",
       "      <td>599.000000</td>\n",
       "      <td>1.000000</td>\n",
       "      <td>527.000000</td>\n",
       "    </tr>\n",
       "    <tr>\n",
       "      <th>95%</th>\n",
       "      <td>8.746025e+18</td>\n",
       "      <td>1338.000000</td>\n",
       "      <td>3.000000</td>\n",
       "      <td>839.000000</td>\n",
       "    </tr>\n",
       "    <tr>\n",
       "      <th>max</th>\n",
       "      <td>9.223367e+18</td>\n",
       "      <td>40653.000000</td>\n",
       "      <td>227.000000</td>\n",
       "      <td>1869.000000</td>\n",
       "    </tr>\n",
       "  </tbody>\n",
       "</table>\n",
       "</div>"
      ],
      "text/plain": [
       "            user_id         amount   transactions            avg\n",
       "count  2.877580e+05  287758.000000  287758.000000  287758.000000\n",
       "mean   4.603347e+18     499.179714       1.278383     388.828622\n",
       "std    2.646895e+18     583.444202       1.453016     261.807085\n",
       "min    1.809139e+12      20.000000       1.000000      20.000000\n",
       "25%    2.321055e+18     202.000000       1.000000     199.000000\n",
       "50%    4.620357e+18     369.000000       1.000000     330.000000\n",
       "75%    6.880639e+18     599.000000       1.000000     527.000000\n",
       "95%    8.746025e+18    1338.000000       3.000000     839.000000\n",
       "max    9.223367e+18   40653.000000     227.000000    1869.000000"
      ]
     },
     "execution_count": 7,
     "metadata": {},
     "output_type": "execute_result"
    }
   ],
   "source": [
    "df_advanced.describe(percentiles=[0.25,0.50,0.75,0.95])"
   ]
  },
  {
   "cell_type": "markdown",
   "metadata": {},
   "source": [
    "Видим, что у нас basic клиентов сильно больше, чем advanced и при этом средняя сумма транзакции у advanced выше, следовательно, при проведении эксперимента было бы логично их разбить по типу тарифа. Построим графики:"
   ]
  },
  {
   "cell_type": "code",
   "execution_count": 8,
   "metadata": {},
   "outputs": [
    {
     "data": {
      "image/png": "[encoded data removed]",
      "text/plain": [
       "<Figure size 432x288 with 4 Axes>"
      ]
     },
     "metadata": {
      "needs_background": "light"
     },
     "output_type": "display_data"
    }
   ],
   "source": [
    "#для базового тарифа \n",
    "h = df_basic[['amount','transactions','avg']].hist()"
   ]
  },
  {
   "cell_type": "code",
   "execution_count": 9,
   "metadata": {},
   "outputs": [
    {
     "data": {
      "image/png": "[encoded data removed]",
      "text/plain": [
       "<Figure size 432x288 with 4 Axes>"
      ]
     },
     "metadata": {
      "needs_background": "light"
     },
     "output_type": "display_data"
    }
   ],
   "source": [
    "#для продвинутого тарифа \n",
    "h = df_advanced[['amount','transactions','avg']].hist()"
   ]
  },
  {
   "cell_type": "markdown",
   "metadata": {},
   "source": [
    "Видим, что данные имеют выбросы в виде экстремально больших значений - максимумы очень сильно отличаются от величины 95 перцентиля. Поэтому избавимся от них для того чтобы прийти к более точным выводам и уменьшить длительность эксперимента. Возьмем только те данные которые меньше 99 перцентиля."
   ]
  },
  {
   "cell_type": "code",
   "execution_count": 10,
   "metadata": {},
   "outputs": [],
   "source": [
    "#для продвинутого тарифа \n",
    "quantil_amount_advanced=np.quantile(df_advanced['amount'],q=0.99)\n",
    "quantil_transactions_advanced=np.quantile(df_advanced['transactions'],q=0.99)\n",
    "df_clear_advanced=df_advanced[(df_advanced['amount']<quantil_amount_advanced)&(df_advanced['transactions']<quantil_transactions_advanced)]"
   ]
  },
  {
   "cell_type": "code",
   "execution_count": 11,
   "metadata": {},
   "outputs": [],
   "source": [
    "#для базового тарифа \n",
    "quantil_amount_basic=np.quantile(df_basic['amount'],q=0.99)\n",
    "quantil_transactions_basic=np.quantile(df_basic['transactions'],q=0.99)\n",
    "df_clear_basic=df_basic[(df_basic['amount']<quantil_amount_basic)&(df_basic['transactions']<quantil_transactions_basic)]"
   ]
  },
  {
   "cell_type": "code",
   "execution_count": 12,
   "metadata": {},
   "outputs": [
    {
     "data": {
      "text/html": [
       "<div>\n",
       "<style scoped>\n",
       "    .dataframe tbody tr th:only-of-type {\n",
       "        vertical-align: middle;\n",
       "    }\n",
       "\n",
       "    .dataframe tbody tr th {\n",
       "        vertical-align: top;\n",
       "    }\n",
       "\n",
       "    .dataframe thead th {\n",
       "        text-align: right;\n",
       "    }\n",
       "</style>\n",
       "<table border=\"1\" class=\"dataframe\">\n",
       "  <thead>\n",
       "    <tr style=\"text-align: right;\">\n",
       "      <th></th>\n",
       "      <th>user_id</th>\n",
       "      <th>amount</th>\n",
       "      <th>transactions</th>\n",
       "      <th>avg</th>\n",
       "    </tr>\n",
       "  </thead>\n",
       "  <tbody>\n",
       "    <tr>\n",
       "      <th>count</th>\n",
       "      <td>2.834240e+05</td>\n",
       "      <td>283424.00000</td>\n",
       "      <td>283424.000000</td>\n",
       "      <td>283424.000000</td>\n",
       "    </tr>\n",
       "    <tr>\n",
       "      <th>mean</th>\n",
       "      <td>4.604299e+18</td>\n",
       "      <td>454.52251</td>\n",
       "      <td>1.176206</td>\n",
       "      <td>386.359909</td>\n",
       "    </tr>\n",
       "    <tr>\n",
       "      <th>std</th>\n",
       "      <td>2.648822e+18</td>\n",
       "      <td>370.25482</td>\n",
       "      <td>0.545962</td>\n",
       "      <td>258.622599</td>\n",
       "    </tr>\n",
       "    <tr>\n",
       "      <th>min</th>\n",
       "      <td>1.809139e+12</td>\n",
       "      <td>20.00000</td>\n",
       "      <td>1.000000</td>\n",
       "      <td>20.000000</td>\n",
       "    </tr>\n",
       "    <tr>\n",
       "      <th>25%</th>\n",
       "      <td>2.319140e+18</td>\n",
       "      <td>200.00000</td>\n",
       "      <td>1.000000</td>\n",
       "      <td>199.000000</td>\n",
       "    </tr>\n",
       "    <tr>\n",
       "      <th>50%</th>\n",
       "      <td>4.619777e+18</td>\n",
       "      <td>368.00000</td>\n",
       "      <td>1.000000</td>\n",
       "      <td>330.000000</td>\n",
       "    </tr>\n",
       "    <tr>\n",
       "      <th>75%</th>\n",
       "      <td>6.886519e+18</td>\n",
       "      <td>579.00000</td>\n",
       "      <td>1.000000</td>\n",
       "      <td>505.666667</td>\n",
       "    </tr>\n",
       "    <tr>\n",
       "      <th>95%</th>\n",
       "      <td>8.748363e+18</td>\n",
       "      <td>1160.00000</td>\n",
       "      <td>2.000000</td>\n",
       "      <td>839.000000</td>\n",
       "    </tr>\n",
       "    <tr>\n",
       "      <th>max</th>\n",
       "      <td>9.223367e+18</td>\n",
       "      <td>2799.00000</td>\n",
       "      <td>5.000000</td>\n",
       "      <td>1869.000000</td>\n",
       "    </tr>\n",
       "  </tbody>\n",
       "</table>\n",
       "</div>"
      ],
      "text/plain": [
       "            user_id        amount   transactions            avg\n",
       "count  2.834240e+05  283424.00000  283424.000000  283424.000000\n",
       "mean   4.604299e+18     454.52251       1.176206     386.359909\n",
       "std    2.648822e+18     370.25482       0.545962     258.622599\n",
       "min    1.809139e+12      20.00000       1.000000      20.000000\n",
       "25%    2.319140e+18     200.00000       1.000000     199.000000\n",
       "50%    4.619777e+18     368.00000       1.000000     330.000000\n",
       "75%    6.886519e+18     579.00000       1.000000     505.666667\n",
       "95%    8.748363e+18    1160.00000       2.000000     839.000000\n",
       "max    9.223367e+18    2799.00000       5.000000    1869.000000"
      ]
     },
     "execution_count": 12,
     "metadata": {},
     "output_type": "execute_result"
    }
   ],
   "source": [
    "#для продвинутого тарифа\n",
    "df_clear_advanced.describe(percentiles=[0.25,0.50,0.75,0.95])"
   ]
  },
  {
   "cell_type": "code",
   "execution_count": 13,
   "metadata": {},
   "outputs": [
    {
     "data": {
      "text/html": [
       "<div>\n",
       "<style scoped>\n",
       "    .dataframe tbody tr th:only-of-type {\n",
       "        vertical-align: middle;\n",
       "    }\n",
       "\n",
       "    .dataframe tbody tr th {\n",
       "        vertical-align: top;\n",
       "    }\n",
       "\n",
       "    .dataframe thead th {\n",
       "        text-align: right;\n",
       "    }\n",
       "</style>\n",
       "<table border=\"1\" class=\"dataframe\">\n",
       "  <thead>\n",
       "    <tr style=\"text-align: right;\">\n",
       "      <th></th>\n",
       "      <th>user_id</th>\n",
       "      <th>amount</th>\n",
       "      <th>transactions</th>\n",
       "      <th>avg</th>\n",
       "    </tr>\n",
       "  </thead>\n",
       "  <tbody>\n",
       "    <tr>\n",
       "      <th>count</th>\n",
       "      <td>9.759070e+05</td>\n",
       "      <td>975907.000000</td>\n",
       "      <td>975907.000000</td>\n",
       "      <td>975907.000000</td>\n",
       "    </tr>\n",
       "    <tr>\n",
       "      <th>mean</th>\n",
       "      <td>4.616768e+18</td>\n",
       "      <td>148.724722</td>\n",
       "      <td>1.189708</td>\n",
       "      <td>127.059368</td>\n",
       "    </tr>\n",
       "    <tr>\n",
       "      <th>std</th>\n",
       "      <td>2.660913e+18</td>\n",
       "      <td>106.774083</td>\n",
       "      <td>0.555754</td>\n",
       "      <td>76.244270</td>\n",
       "    </tr>\n",
       "    <tr>\n",
       "      <th>min</th>\n",
       "      <td>1.912220e+12</td>\n",
       "      <td>8.000000</td>\n",
       "      <td>1.000000</td>\n",
       "      <td>8.000000</td>\n",
       "    </tr>\n",
       "    <tr>\n",
       "      <th>25%</th>\n",
       "      <td>2.308468e+18</td>\n",
       "      <td>79.000000</td>\n",
       "      <td>1.000000</td>\n",
       "      <td>76.000000</td>\n",
       "    </tr>\n",
       "    <tr>\n",
       "      <th>50%</th>\n",
       "      <td>4.622589e+18</td>\n",
       "      <td>119.000000</td>\n",
       "      <td>1.000000</td>\n",
       "      <td>100.000000</td>\n",
       "    </tr>\n",
       "    <tr>\n",
       "      <th>75%</th>\n",
       "      <td>6.916333e+18</td>\n",
       "      <td>191.000000</td>\n",
       "      <td>1.000000</td>\n",
       "      <td>169.000000</td>\n",
       "    </tr>\n",
       "    <tr>\n",
       "      <th>95%</th>\n",
       "      <td>8.768086e+18</td>\n",
       "      <td>358.000000</td>\n",
       "      <td>2.000000</td>\n",
       "      <td>269.000000</td>\n",
       "    </tr>\n",
       "    <tr>\n",
       "      <th>max</th>\n",
       "      <td>9.223362e+18</td>\n",
       "      <td>812.000000</td>\n",
       "      <td>5.000000</td>\n",
       "      <td>529.000000</td>\n",
       "    </tr>\n",
       "  </tbody>\n",
       "</table>\n",
       "</div>"
      ],
      "text/plain": [
       "            user_id         amount   transactions            avg\n",
       "count  9.759070e+05  975907.000000  975907.000000  975907.000000\n",
       "mean   4.616768e+18     148.724722       1.189708     127.059368\n",
       "std    2.660913e+18     106.774083       0.555754      76.244270\n",
       "min    1.912220e+12       8.000000       1.000000       8.000000\n",
       "25%    2.308468e+18      79.000000       1.000000      76.000000\n",
       "50%    4.622589e+18     119.000000       1.000000     100.000000\n",
       "75%    6.916333e+18     191.000000       1.000000     169.000000\n",
       "95%    8.768086e+18     358.000000       2.000000     269.000000\n",
       "max    9.223362e+18     812.000000       5.000000     529.000000"
      ]
     },
     "execution_count": 13,
     "metadata": {},
     "output_type": "execute_result"
    }
   ],
   "source": [
    "#для базового тарифа\n",
    "df_clear_basic.describe(percentiles=[0.25,0.50,0.75,0.95])"
   ]
  },
  {
   "cell_type": "markdown",
   "metadata": {},
   "source": [
    "построим графики для отчищенных данных "
   ]
  },
  {
   "cell_type": "code",
   "execution_count": 14,
   "metadata": {},
   "outputs": [
    {
     "data": {
      "image/png": "[encoded data removed]",
      "text/plain": [
       "<Figure size 432x288 with 4 Axes>"
      ]
     },
     "metadata": {
      "needs_background": "light"
     },
     "output_type": "display_data"
    }
   ],
   "source": [
    "#для продвинутого тарифа \n",
    "h = df_clear_advanced[['amount','transactions','avg']].hist()"
   ]
  },
  {
   "cell_type": "code",
   "execution_count": 15,
   "metadata": {},
   "outputs": [
    {
     "data": {
      "image/png": "[encoded data removed]",
      "text/plain": [
       "<Figure size 432x288 with 4 Axes>"
      ]
     },
     "metadata": {
      "needs_background": "light"
     },
     "output_type": "display_data"
    }
   ],
   "source": [
    "#для базового тарифа \n",
    "h = df_clear_basic[['amount','transactions','avg']].hist()"
   ]
  },
  {
   "cell_type": "markdown",
   "metadata": {},
   "source": [
    "Посмотрим как изменялась доля advanced тарифа каждый день:"
   ]
  },
  {
   "cell_type": "code",
   "execution_count": 16,
   "metadata": {},
   "outputs": [],
   "source": [
    "df_fr_advanced=df_advanced.groupby(['event_date']).agg({'amount':['count']})/df.groupby(['event_date']).agg({'amount':['count']})"
   ]
  },
  {
   "cell_type": "code",
   "execution_count": 17,
   "metadata": {},
   "outputs": [],
   "source": [
    "df_fr_advanced=df_fr_advanced['amount']"
   ]
  },
  {
   "cell_type": "code",
   "execution_count": 18,
   "metadata": {},
   "outputs": [
    {
     "data": {
      "image/png": "[encoded data removed]",
      "text/plain": [
       "<Figure size 432x288 with 1 Axes>"
      ]
     },
     "metadata": {
      "needs_background": "light"
     },
     "output_type": "display_data"
    }
   ],
   "source": [
    "h = df_fr_advanced['count'].hist()"
   ]
  },
  {
   "cell_type": "markdown",
   "metadata": {},
   "source": [
    "##### Выводы:\n",
    "\n",
    "     1) Данные имеют выбросы\n",
    "     \n",
    "     2) Распределения 'amount','transactions' и 'avg' похоже на экспоненциальное, распределение у доли advanced тарифа похоже на нормальное \n",
    "     \n",
    "     3) Убрав выбросы мы можем снизить дисперсию, тем самым снизить срок эксперимента \n",
    "     \n",
    "     4) Данные по типу тарифа сильно отличаются имеет смысл рассматривать их отдельно\n",
    "\n",
    "    "
   ]
  },
  {
   "cell_type": "markdown",
   "metadata": {},
   "source": [
    "#### Сезональность:"
   ]
  },
  {
   "cell_type": "markdown",
   "metadata": {},
   "source": [
    "Для того чтобы посмотреть сезональность данных, посмотрим, как меняются распределения от месяца к месяцу:"
   ]
  },
  {
   "cell_type": "code",
   "execution_count": 52,
   "metadata": {},
   "outputs": [],
   "source": [
    "df['m']=df['event_date'].dt.month"
   ]
  },
  {
   "cell_type": "code",
   "execution_count": 65,
   "metadata": {},
   "outputs": [],
   "source": [
    "agg_func_math = {\n",
    "    'amount': ['count','sum', 'mean', 'min', 'max', 'std'],\n",
    "    'transactions': ['count','sum', 'mean', 'min', 'max', 'std'],\n",
    "    'avg':['count','sum', 'mean', 'min', 'max', 'std']\n",
    "}"
   ]
  },
  {
   "cell_type": "markdown",
   "metadata": {},
   "source": [
    "Посмотрим как изменяются средние:"
   ]
  },
  {
   "cell_type": "code",
   "execution_count": 66,
   "metadata": {},
   "outputs": [
    {
     "data": {
      "text/html": [
       "<div>\n",
       "<style scoped>\n",
       "    .dataframe tbody tr th:only-of-type {\n",
       "        vertical-align: middle;\n",
       "    }\n",
       "\n",
       "    .dataframe tbody tr th {\n",
       "        vertical-align: top;\n",
       "    }\n",
       "\n",
       "    .dataframe thead tr th {\n",
       "        text-align: left;\n",
       "    }\n",
       "\n",
       "    .dataframe thead tr:last-of-type th {\n",
       "        text-align: right;\n",
       "    }\n",
       "</style>\n",
       "<table border=\"1\" class=\"dataframe\">\n",
       "  <thead>\n",
       "    <tr>\n",
       "      <th></th>\n",
       "      <th></th>\n",
       "      <th colspan=\"6\" halign=\"left\">amount</th>\n",
       "      <th colspan=\"6\" halign=\"left\">transactions</th>\n",
       "      <th colspan=\"6\" halign=\"left\">avg</th>\n",
       "    </tr>\n",
       "    <tr>\n",
       "      <th></th>\n",
       "      <th></th>\n",
       "      <th>count</th>\n",
       "      <th>sum</th>\n",
       "      <th>mean</th>\n",
       "      <th>min</th>\n",
       "      <th>max</th>\n",
       "      <th>std</th>\n",
       "      <th>count</th>\n",
       "      <th>sum</th>\n",
       "      <th>mean</th>\n",
       "      <th>min</th>\n",
       "      <th>max</th>\n",
       "      <th>std</th>\n",
       "      <th>count</th>\n",
       "      <th>sum</th>\n",
       "      <th>mean</th>\n",
       "      <th>min</th>\n",
       "      <th>max</th>\n",
       "      <th>std</th>\n",
       "    </tr>\n",
       "    <tr>\n",
       "      <th>product</th>\n",
       "      <th>m</th>\n",
       "      <th></th>\n",
       "      <th></th>\n",
       "      <th></th>\n",
       "      <th></th>\n",
       "      <th></th>\n",
       "      <th></th>\n",
       "      <th></th>\n",
       "      <th></th>\n",
       "      <th></th>\n",
       "      <th></th>\n",
       "      <th></th>\n",
       "      <th></th>\n",
       "      <th></th>\n",
       "      <th></th>\n",
       "      <th></th>\n",
       "      <th></th>\n",
       "      <th></th>\n",
       "      <th></th>\n",
       "    </tr>\n",
       "  </thead>\n",
       "  <tbody>\n",
       "    <tr>\n",
       "      <th rowspan=\"4\" valign=\"top\">advanced</th>\n",
       "      <th>9</th>\n",
       "      <td>6073</td>\n",
       "      <td>2885482.0</td>\n",
       "      <td>475.132883</td>\n",
       "      <td>28.0</td>\n",
       "      <td>13440.0</td>\n",
       "      <td>572.852026</td>\n",
       "      <td>6073</td>\n",
       "      <td>7569</td>\n",
       "      <td>1.246336</td>\n",
       "      <td>1</td>\n",
       "      <td>60</td>\n",
       "      <td>1.267141</td>\n",
       "      <td>6073</td>\n",
       "      <td>2.290036e+06</td>\n",
       "      <td>377.084852</td>\n",
       "      <td>28.0</td>\n",
       "      <td>1869.0</td>\n",
       "      <td>269.417199</td>\n",
       "    </tr>\n",
       "    <tr>\n",
       "      <th>10</th>\n",
       "      <td>88832</td>\n",
       "      <td>42143831.0</td>\n",
       "      <td>474.421729</td>\n",
       "      <td>20.0</td>\n",
       "      <td>18012.0</td>\n",
       "      <td>509.657963</td>\n",
       "      <td>88832</td>\n",
       "      <td>111405</td>\n",
       "      <td>1.254109</td>\n",
       "      <td>1</td>\n",
       "      <td>60</td>\n",
       "      <td>1.027922</td>\n",
       "      <td>88832</td>\n",
       "      <td>3.344750e+07</td>\n",
       "      <td>376.525312</td>\n",
       "      <td>20.0</td>\n",
       "      <td>1869.0</td>\n",
       "      <td>255.725234</td>\n",
       "    </tr>\n",
       "    <tr>\n",
       "      <th>11</th>\n",
       "      <td>92981</td>\n",
       "      <td>47142133.0</td>\n",
       "      <td>507.008238</td>\n",
       "      <td>20.0</td>\n",
       "      <td>40653.0</td>\n",
       "      <td>646.098318</td>\n",
       "      <td>92981</td>\n",
       "      <td>120288</td>\n",
       "      <td>1.293684</td>\n",
       "      <td>1</td>\n",
       "      <td>227</td>\n",
       "      <td>1.975945</td>\n",
       "      <td>92981</td>\n",
       "      <td>3.645747e+07</td>\n",
       "      <td>392.095872</td>\n",
       "      <td>20.0</td>\n",
       "      <td>1869.0</td>\n",
       "      <td>262.753886</td>\n",
       "    </tr>\n",
       "    <tr>\n",
       "      <th>12</th>\n",
       "      <td>99872</td>\n",
       "      <td>51471510.0</td>\n",
       "      <td>515.374780</td>\n",
       "      <td>20.0</td>\n",
       "      <td>18960.0</td>\n",
       "      <td>583.336764</td>\n",
       "      <td>99872</td>\n",
       "      <td>128603</td>\n",
       "      <td>1.287678</td>\n",
       "      <td>1</td>\n",
       "      <td>95</td>\n",
       "      <td>1.187365</td>\n",
       "      <td>99872</td>\n",
       "      <td>3.969355e+07</td>\n",
       "      <td>397.444204</td>\n",
       "      <td>20.0</td>\n",
       "      <td>1869.0</td>\n",
       "      <td>265.347423</td>\n",
       "    </tr>\n",
       "    <tr>\n",
       "      <th rowspan=\"4\" valign=\"top\">basic</th>\n",
       "      <th>9</th>\n",
       "      <td>20569</td>\n",
       "      <td>3403173.0</td>\n",
       "      <td>165.451553</td>\n",
       "      <td>8.0</td>\n",
       "      <td>5514.0</td>\n",
       "      <td>178.061147</td>\n",
       "      <td>20569</td>\n",
       "      <td>26123</td>\n",
       "      <td>1.270018</td>\n",
       "      <td>1</td>\n",
       "      <td>37</td>\n",
       "      <td>1.142048</td>\n",
       "      <td>20569</td>\n",
       "      <td>2.709825e+06</td>\n",
       "      <td>131.743173</td>\n",
       "      <td>8.0</td>\n",
       "      <td>529.0</td>\n",
       "      <td>80.714433</td>\n",
       "    </tr>\n",
       "    <tr>\n",
       "      <th>10</th>\n",
       "      <td>306483</td>\n",
       "      <td>49915612.0</td>\n",
       "      <td>162.865842</td>\n",
       "      <td>8.0</td>\n",
       "      <td>108186.0</td>\n",
       "      <td>274.617866</td>\n",
       "      <td>306483</td>\n",
       "      <td>393756</td>\n",
       "      <td>1.284756</td>\n",
       "      <td>1</td>\n",
       "      <td>768</td>\n",
       "      <td>1.872112</td>\n",
       "      <td>306483</td>\n",
       "      <td>3.937058e+07</td>\n",
       "      <td>128.459256</td>\n",
       "      <td>8.0</td>\n",
       "      <td>529.0</td>\n",
       "      <td>77.354914</td>\n",
       "    </tr>\n",
       "    <tr>\n",
       "      <th>11</th>\n",
       "      <td>319955</td>\n",
       "      <td>52525541.0</td>\n",
       "      <td>164.165401</td>\n",
       "      <td>8.0</td>\n",
       "      <td>15876.0</td>\n",
       "      <td>204.161100</td>\n",
       "      <td>319955</td>\n",
       "      <td>414665</td>\n",
       "      <td>1.296010</td>\n",
       "      <td>1</td>\n",
       "      <td>87</td>\n",
       "      <td>1.280657</td>\n",
       "      <td>319955</td>\n",
       "      <td>4.087882e+07</td>\n",
       "      <td>127.764280</td>\n",
       "      <td>8.0</td>\n",
       "      <td>529.0</td>\n",
       "      <td>76.713251</td>\n",
       "    </tr>\n",
       "    <tr>\n",
       "      <th>12</th>\n",
       "      <td>343421</td>\n",
       "      <td>56589456.0</td>\n",
       "      <td>164.781583</td>\n",
       "      <td>8.0</td>\n",
       "      <td>15518.0</td>\n",
       "      <td>220.398749</td>\n",
       "      <td>343421</td>\n",
       "      <td>449889</td>\n",
       "      <td>1.310022</td>\n",
       "      <td>1</td>\n",
       "      <td>95</td>\n",
       "      <td>1.412712</td>\n",
       "      <td>343421</td>\n",
       "      <td>4.351585e+07</td>\n",
       "      <td>126.712833</td>\n",
       "      <td>8.0</td>\n",
       "      <td>529.0</td>\n",
       "      <td>76.788280</td>\n",
       "    </tr>\n",
       "  </tbody>\n",
       "</table>\n",
       "</div>"
      ],
      "text/plain": [
       "             amount                                                      \\\n",
       "              count         sum        mean   min       max         std   \n",
       "product  m                                                                \n",
       "advanced 9     6073   2885482.0  475.132883  28.0   13440.0  572.852026   \n",
       "         10   88832  42143831.0  474.421729  20.0   18012.0  509.657963   \n",
       "         11   92981  47142133.0  507.008238  20.0   40653.0  646.098318   \n",
       "         12   99872  51471510.0  515.374780  20.0   18960.0  583.336764   \n",
       "basic    9    20569   3403173.0  165.451553   8.0    5514.0  178.061147   \n",
       "         10  306483  49915612.0  162.865842   8.0  108186.0  274.617866   \n",
       "         11  319955  52525541.0  164.165401   8.0   15876.0  204.161100   \n",
       "         12  343421  56589456.0  164.781583   8.0   15518.0  220.398749   \n",
       "\n",
       "            transactions                                          avg  \\\n",
       "                   count     sum      mean min  max       std   count   \n",
       "product  m                                                              \n",
       "advanced 9          6073    7569  1.246336   1   60  1.267141    6073   \n",
       "         10        88832  111405  1.254109   1   60  1.027922   88832   \n",
       "         11        92981  120288  1.293684   1  227  1.975945   92981   \n",
       "         12        99872  128603  1.287678   1   95  1.187365   99872   \n",
       "basic    9         20569   26123  1.270018   1   37  1.142048   20569   \n",
       "         10       306483  393756  1.284756   1  768  1.872112  306483   \n",
       "         11       319955  414665  1.296010   1   87  1.280657  319955   \n",
       "         12       343421  449889  1.310022   1   95  1.412712  343421   \n",
       "\n",
       "                                                                 \n",
       "                      sum        mean   min     max         std  \n",
       "product  m                                                       \n",
       "advanced 9   2.290036e+06  377.084852  28.0  1869.0  269.417199  \n",
       "         10  3.344750e+07  376.525312  20.0  1869.0  255.725234  \n",
       "         11  3.645747e+07  392.095872  20.0  1869.0  262.753886  \n",
       "         12  3.969355e+07  397.444204  20.0  1869.0  265.347423  \n",
       "basic    9   2.709825e+06  131.743173   8.0   529.0   80.714433  \n",
       "         10  3.937058e+07  128.459256   8.0   529.0   77.354914  \n",
       "         11  4.087882e+07  127.764280   8.0   529.0   76.713251  \n",
       "         12  4.351585e+07  126.712833   8.0   529.0   76.788280  "
      ]
     },
     "execution_count": 66,
     "metadata": {},
     "output_type": "execute_result"
    }
   ],
   "source": [
    "df.groupby(['product','m']).agg(agg_func_math)"
   ]
  },
  {
   "cell_type": "markdown",
   "metadata": {},
   "source": [
    "#### Вывод:\n",
    "В сентябре видны отличия видны из-за того, что о нем мало данных, поэтому его в расчёт не берем. Если смотреть на 3 последних месяца, то можем считать, что наш продукт не особо сезонный"
   ]
  },
  {
   "cell_type": "markdown",
   "metadata": {},
   "source": [
    "#### 2) Формализуйте гипотезы "
   ]
  },
  {
   "cell_type": "markdown",
   "metadata": {},
   "source": [
    "##### Гипотеза 1: Дополнительное информирование об эффективности услуг будет стимулировать их покупку"
   ]
  },
  {
   "cell_type": "markdown",
   "metadata": {},
   "source": [
    "\n",
    "Для проверки данной гипотезы мы будем рассматривать метрику transactions - количество транзакций для каждого тарифа. Сравним среднее число транзакций в тесте и контроле. Также будем смотреть чтобы при этом не упал средний чек и количество покупок (пользователи не ушли от нашей назойливости).\n",
    "\n",
    "По данным видно, что количество транзакций за месяц очень большое и если мы добьемся относительного прироста в 1%, то мы молодцы))  \n"
   ]
  },
  {
   "cell_type": "markdown",
   "metadata": {},
   "source": [
    "##### Гипотеза 2: Повышение цены базового продукта должно стимулировать покупку продвинутого продукта"
   ]
  },
  {
   "cell_type": "markdown",
   "metadata": {},
   "source": [
    "Для проверки данной гипотезы мы будем рассматривать средний чек, так как если доля покупок Advanced вырастит то и средний чек тоже, при этом важно чтобы не упала суммарное число покупок.\n",
    "\n",
    "Относительной изменение 1% к текущей.\n",
    "\n",
    "Но вообще нужно спрашивать у бизнеса сколько они хотят)"
   ]
  },
  {
   "cell_type": "markdown",
   "metadata": {},
   "source": [
    "#### 3) Предскажите минимально детектируемый эффект для своих метрик и спланируйте эксперименты внутри квартала:"
   ]
  },
  {
   "cell_type": "markdown",
   "metadata": {},
   "source": [
    "### MDE:"
   ]
  },
  {
   "cell_type": "markdown",
   "metadata": {},
   "source": [
    "Посмотрим каким будет MDE при проведении эксперимента внутри квартала, для этого воспользуемся формулой: "
   ]
  },
  {
   "cell_type": "markdown",
   "metadata": {},
   "source": [
    "$\\text{MDE%}  =\\dfrac{ (t_\\alpha + t_\\beta) \\cdot \\hat{\\text{SEM}}} {\\bar{X}}$"
   ]
  },
  {
   "cell_type": "code",
   "execution_count": 22,
   "metadata": {},
   "outputs": [],
   "source": [
    "from scipy.stats import t,sem"
   ]
  },
  {
   "cell_type": "code",
   "execution_count": 64,
   "metadata": {},
   "outputs": [],
   "source": [
    "#для 2-х сторонней гипотезы\n",
    "def mde(df, alpha, power, metrics):\n",
    "    mde = (t(len(df)).ppf(1 - alpha/2) + t(len(df)).ppf(power)) * sem(df[metrics])/df[metrics].mean()\n",
    "    return mde "
   ]
  },
  {
   "cell_type": "markdown",
   "metadata": {},
   "source": [
    "Посимотрим MDE для transactions:"
   ]
  },
  {
   "cell_type": "code",
   "execution_count": 65,
   "metadata": {},
   "outputs": [
    {
     "data": {
      "text/plain": [
       "0.0035336207785453887"
      ]
     },
     "execution_count": 65,
     "metadata": {},
     "output_type": "execute_result"
    }
   ],
   "source": [
    "#на всей выборке \n",
    "mde(df, alpha=0.01, power=0.8, metrics='transactions')"
   ]
  },
  {
   "cell_type": "code",
   "execution_count": 66,
   "metadata": {},
   "outputs": [
    {
     "data": {
      "text/plain": [
       "0.0040449585558195"
      ]
     },
     "execution_count": 66,
     "metadata": {},
     "output_type": "execute_result"
    }
   ],
   "source": [
    "# на базовом тарифе без убирания выбросов \n",
    "mde(df_basic, alpha=0.01, power=0.8, metrics='transactions')"
   ]
  },
  {
   "cell_type": "code",
   "execution_count": 67,
   "metadata": {},
   "outputs": [
    {
     "data": {
      "text/plain": [
       "0.001615999764769945"
      ]
     },
     "execution_count": 67,
     "metadata": {},
     "output_type": "execute_result"
    }
   ],
   "source": [
    "# на базовом тарифе c убирания выбросов \n",
    "mde(df_clear_basic, alpha=0.01, power=0.8, metrics='transactions')"
   ]
  },
  {
   "cell_type": "markdown",
   "metadata": {},
   "source": [
    "Посимотрим MDE для amount:"
   ]
  },
  {
   "cell_type": "code",
   "execution_count": 68,
   "metadata": {},
   "outputs": [
    {
     "data": {
      "text/plain": [
       "0.004694609895674418"
      ]
     },
     "execution_count": 68,
     "metadata": {},
     "output_type": "execute_result"
    }
   ],
   "source": [
    "#на всей выборке \n",
    "mde(df, alpha=0.01, power=0.8, metrics='amount')"
   ]
  },
  {
   "cell_type": "code",
   "execution_count": 69,
   "metadata": {},
   "outputs": [
    {
     "data": {
      "text/plain": [
       "0.004879261563360905"
      ]
     },
     "execution_count": 69,
     "metadata": {},
     "output_type": "execute_result"
    }
   ],
   "source": [
    "# на базовом тарифе без убирания выбросов \n",
    "mde(df_basic, alpha=0.01, power=0.8, metrics='amount')"
   ]
  },
  {
   "cell_type": "code",
   "execution_count": 70,
   "metadata": {},
   "outputs": [
    {
     "data": {
      "text/plain": [
       "0.001615999764769945"
      ]
     },
     "execution_count": 70,
     "metadata": {},
     "output_type": "execute_result"
    }
   ],
   "source": [
    "# на базовом тарифе c убирания выбросов \n",
    "mde(df_clear_basic, alpha=0.01, power=0.8, metrics='transactions')"
   ]
  },
  {
   "cell_type": "markdown",
   "metadata": {},
   "source": [
    "Посимотрим MDE для avg:"
   ]
  },
  {
   "cell_type": "code",
   "execution_count": 71,
   "metadata": {},
   "outputs": [
    {
     "data": {
      "text/plain": [
       "0.0028961372090089846"
      ]
     },
     "execution_count": 71,
     "metadata": {},
     "output_type": "execute_result"
    }
   ],
   "source": [
    "#на всей выборке \n",
    "mde(df, alpha=0.01, power=0.8, metrics='avg')"
   ]
  },
  {
   "cell_type": "code",
   "execution_count": 72,
   "metadata": {},
   "outputs": [
    {
     "data": {
      "text/plain": [
       "0.0020713919250410877"
      ]
     },
     "execution_count": 72,
     "metadata": {},
     "output_type": "execute_result"
    }
   ],
   "source": [
    "# на базовом тарифе без убирания выбросов \n",
    "mde(df_basic, alpha=0.01, power=0.8, metrics='avg')"
   ]
  },
  {
   "cell_type": "code",
   "execution_count": 73,
   "metadata": {},
   "outputs": [
    {
     "data": {
      "text/plain": [
       "0.0020758655877688033"
      ]
     },
     "execution_count": 73,
     "metadata": {},
     "output_type": "execute_result"
    }
   ],
   "source": [
    "# на базовом тарифе c убирания выбросов \n",
    "mde(df_clear_basic, alpha=0.01, power=0.8, metrics='avg')"
   ]
  },
  {
   "cell_type": "markdown",
   "metadata": {},
   "source": [
    "Вывод: разбиении по тарифам не дает сильного уменьшение MDE, если мы ожидаем прироста порядка 1%, то мы его увидим и на всей выборке с чувствительностью 80%, при этом если использовать всю выборку, то мы сможем учесть всех пользователей."
   ]
  },
  {
   "cell_type": "markdown",
   "metadata": {},
   "source": [
    "##### Наиболее оптимальный план экспериментов:"
   ]
  },
  {
   "cell_type": "markdown",
   "metadata": {},
   "source": [
    "Если у нас есть возможность тестировать целый квартал, то данных достаточно для того чтобы заметить даже маленькие изменения в метриках.\n",
    "\n",
    "Но если такой возможности нет, и мы не хотим раскатывать тест и контроль 50 на 50(что для второй гипотезы опасно), то у нас есть вариант разбить наши данные по типу подписки, и убрать из эксперимента экстремально больших пользователей(до эксперимента). \n",
    "\n",
    "Так например если мы хотим эксперимент длительностью неделя MDE на всех данных будет:"
   ]
  },
  {
   "cell_type": "code",
   "execution_count": 74,
   "metadata": {},
   "outputs": [
    {
     "data": {
      "text/plain": [
       "0.02978098375038118"
      ]
     },
     "execution_count": 74,
     "metadata": {},
     "output_type": "execute_result"
    }
   ],
   "source": [
    "#на всей выборке \n",
    "mde(df[df.event_date < '2020-10-5'], alpha=0.01, power=0.8, metrics='transactions')"
   ]
  },
  {
   "cell_type": "markdown",
   "metadata": {},
   "source": [
    "Что больше чем ожидаемый 1% "
   ]
  },
  {
   "cell_type": "code",
   "execution_count": 75,
   "metadata": {},
   "outputs": [
    {
     "data": {
      "text/plain": [
       "0.006493983651384404"
      ]
     },
     "execution_count": 75,
     "metadata": {},
     "output_type": "execute_result"
    }
   ],
   "source": [
    "# на базовом тарифе c убирания выбросов \n",
    "mde(df_clear_basic[df_clear_basic.event_date < '2020-10-5'], alpha=0.01, power=0.8, metrics='transactions')"
   ]
  },
  {
   "cell_type": "markdown",
   "metadata": {},
   "source": [
    "А с убиранием выбросов и рассмотрением каждой подписки отдельно MDE нас устраивает "
   ]
  },
  {
   "cell_type": "markdown",
   "metadata": {},
   "source": [
    "### Оптимизация плана:"
   ]
  },
  {
   "cell_type": "markdown",
   "metadata": {},
   "source": [
    "Если хотим ускорить эксперимент: \n",
    "   \n",
    "   1) Можно замени 2-х стороннюю гипотезу на одностороннюю, так как по логике ничем кроме потерь на рассылку нам это не грози (для первой гипотезы), для второй лучше так не делать \n",
    "   \n",
    "   2) Провести стратификацию, разбить пользователей по группам, тем самым снизить дисперсию"
   ]
  },
  {
   "cell_type": "code",
   "execution_count": null,
   "metadata": {},
   "outputs": [],
   "source": []
  }
 ],
 "metadata": {
  "kernelspec": {
   "display_name": "Python 3",
   "language": "python",
   "name": "python3"
  },
  "language_info": {
   "codemirror_mode": {
    "name": "ipython",
    "version": 3
   },
   "file_extension": ".py",
   "mimetype": "text/x-python",
   "name": "python",
   "nbconvert_exporter": "python",
   "pygments_lexer": "ipython3",
   "version": "3.8.6"
  }
 },
 "nbformat": 4,
 "nbformat_minor": 4
}
